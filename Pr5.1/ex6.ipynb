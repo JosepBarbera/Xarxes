{
 "cells": [
  {
   "attachments": {},
   "cell_type": "markdown",
   "metadata": {},
   "source": [
    "# EXERCISE 6"
   ]
  },
  {
   "cell_type": "code",
   "execution_count": 1,
   "metadata": {},
   "outputs": [],
   "source": [
    "import re\n",
    "\n",
    "from cryptography.hazmat.primitives import hashes, hmac\n",
    "from cryptography.hazmat.primitives.kdf.pbkdf2 import PBKDF2HMAC\n",
    "from cryptography.hazmat.primitives.ciphers.aead import AESCCM\n",
    "from cryptography.hazmat.primitives.keywrap import aes_key_unwrap"
   ]
  },
  {
   "attachments": {},
   "cell_type": "markdown",
   "metadata": {},
   "source": [
    "Validation code"
   ]
  },
  {
   "cell_type": "code",
   "execution_count": 2,
   "metadata": {},
   "outputs": [],
   "source": [
    "def validate_solution(solution, start, end):\n",
    "    match = re.match(fr'^{start}.*{end}$', solution)\n",
    "    print('Solution:', solution)\n",
    "    if match:\n",
    "        print('\\033[92mCorrect Solution.')\n",
    "    else:\n",
    "        print('\\033[0;31mIncorrect Solution.')\n",
    "    print('\\033[0m')\n",
    "\n",
    "def check_equals(expected, solution):\n",
    "    print('Expected:', expected)\n",
    "    print('Solution:', solution)\n",
    "    if expected == solution:\n",
    "        print('\\033[92mCorrect Solution.')\n",
    "    else:\n",
    "        print('\\033[0;31mIncorrect Solution.')\n",
    "    print('\\033[0m')\n"
   ]
  },
  {
   "attachments": {},
   "cell_type": "markdown",
   "metadata": {},
   "source": [
    "Definition of the tshark parser utilities"
   ]
  },
  {
   "cell_type": "code",
   "execution_count": 3,
   "metadata": {},
   "outputs": [],
   "source": [
    "from collections import namedtuple\n",
    "\n",
    "# Definition of handshake representation\n",
    "Handshake_Block = namedtuple('HandShake_Block', ('a_mac', 's_mac' ,'nonce', 'mic', 'mess', 'data', 'bytes'))\n",
    "\n",
    "# definition of block representation\n",
    "Block = namedtuple('Block', ('frame_control', 'add_1', 'add_2', 'add_3', 'qs_control', 'ccmp_par', 'data' ,'bytes'))"
   ]
  },
  {
   "cell_type": "code",
   "execution_count": 4,
   "metadata": {},
   "outputs": [],
   "source": [
    "'''\n",
    "=============================\n",
    "* Parser auxiliar functions *\n",
    "=============================\n",
    "'''\n",
    "def parse_handshake_block(block):\n",
    "    a_mac = block[30:36]\n",
    "    s_mac = block[36:42]\n",
    "    nonce = block[77:109]\n",
    "    mic = block[141:157]\n",
    "    mess = block[60:]\n",
    "    data = None if len(block) < 160 else block[159:]\n",
    "    return Handshake_Block(a_mac, s_mac, nonce, mic, mess, data, block)\n",
    "\n",
    "def parse_block_qos(block):\n",
    "    frame_control = block[0:2]\n",
    "    add_1 = block[4:10]\n",
    "    add_2 = block[10:16]\n",
    "    add_3 = block[16:22]\n",
    "    qs_control = block[24:26]\n",
    "    ccmp_par = (block[26:29] + chr(0x00).encode() + block[30:34])[::-1]\n",
    "    data = block[34:]\n",
    "    return Block(frame_control, add_1, add_2, add_3, qs_control, ccmp_par, data, block)\n",
    "\n",
    "def parse_block(block):\n",
    "    frame_control = block[0:2]\n",
    "    add_1 = block[4:10]\n",
    "    add_2 = block[10:16]\n",
    "    add_3 = block[16:22]\n",
    "    ccmp_par = (block[24:27] + chr(0x00).encode() + block[28:32])[::-1]\n",
    "    data = block[32:]\n",
    "    return Block(frame_control, add_1, add_2, add_3, None, ccmp_par, data, block)"
   ]
  },
  {
   "attachments": {},
   "cell_type": "markdown",
   "metadata": {},
   "source": [
    "Tshak parser definition"
   ]
  },
  {
   "cell_type": "code",
   "execution_count": 5,
   "metadata": {},
   "outputs": [],
   "source": [
    "import subprocess\n",
    "import re\n",
    "\n",
    "class TsharkParser:\n",
    "\n",
    "    @staticmethod\n",
    "    def parse_blocks(blocks):\n",
    "        parsed_blocks = []\n",
    "        for block in blocks:\n",
    "            # parse block line\n",
    "            block_lines = ''.join([''.join(line.split()[1:]) for line in block.split('\\n')])\n",
    "            # cast the block to bytes\n",
    "            parsed_blocks.append(bytes.fromhex(block_lines))\n",
    "        return parsed_blocks\n",
    "            \n",
    "    @staticmethod\n",
    "    def parse_output(output):\n",
    "        output = output.decode()\n",
    "        # detect blocks splitting by '\\n' start lines\n",
    "        packets_blocks = re.split(r\"(?:\\r?\\n){2,}\" ,output.strip())\n",
    "        return TsharkParser.parse_blocks(packets_blocks)\n"
   ]
  },
  {
   "attachments": {},
   "cell_type": "markdown",
   "metadata": {},
   "source": [
    "Tshark utility definition"
   ]
  },
  {
   "cell_type": "code",
   "execution_count": 6,
   "metadata": {},
   "outputs": [],
   "source": [
    "class Tshark:\n",
    "    def __init__(self, capture_path) -> None:\n",
    "        self.capture_path = capture_path\n",
    "    \n",
    "    def apply_filter(self, filter):\n",
    "        command = f'tshark -r {self.capture_path} -Y {filter} -x --hexdump noascii'\n",
    "        output = subprocess.run(command.split(), stdout=subprocess.PIPE).stdout\n",
    "        return TsharkParser.parse_output(output)\n",
    "    \n",
    "    def find_4_handshake_sample(self):\n",
    "        blocks = self.apply_filter('eapol')\n",
    "        handshake_blocks = [parse_handshake_block(block) for block in blocks]\n",
    "        return handshake_blocks\n",
    "    \n",
    "    def find_package_by_frame_number(self, frame_number):\n",
    "        block = self.apply_filter(f'frame.number=={frame_number}')[0]\n",
    "        # find the 802.11 package\n",
    "        header_length =  int.from_bytes(block[2:4], 'little')\n",
    "        block_802_11 = block[header_length:]\n",
    "        # check if has QOS (if the most signinficant bit of the subtype field it's 1)\n",
    "        subtype = block_802_11[:1]\n",
    "        subtype = (int.from_bytes(subtype, 'little') >> 4) & 8\n",
    "        if subtype == 8: #  suptype == 8 the package contains Q0S field\n",
    "            return parse_block_qos(block_802_11)\n",
    "        return parse_block(block_802_11)"
   ]
  },
  {
   "attachments": {},
   "cell_type": "markdown",
   "metadata": {},
   "source": [
    "Definition of the proccess constants "
   ]
  },
  {
   "cell_type": "code",
   "execution_count": 7,
   "metadata": {},
   "outputs": [],
   "source": [
    "SSID = 'Wifi_Test'\n",
    "PASSWORD = 'Wifi_Test_Password'"
   ]
  },
  {
   "attachments": {},
   "cell_type": "markdown",
   "metadata": {},
   "source": [
    "# Question 1"
   ]
  },
  {
   "attachments": {},
   "cell_type": "markdown",
   "metadata": {},
   "source": [
    "Get the PMK that in the case of wpa2-personal is the PSK For this resason the first pass it is derive the PSK from the ssid and password using the following function:"
   ]
  },
  {
   "cell_type": "code",
   "execution_count": 8,
   "metadata": {},
   "outputs": [],
   "source": [
    "def derive_psk(ssid, password):\n",
    "    kdf = PBKDF2HMAC(\n",
    "        algorithm=hashes.SHA1(),\n",
    "        salt=ssid.encode(),\n",
    "        length=32,\n",
    "        iterations=4096,\n",
    "    )\n",
    "    return kdf.derive(password.encode())"
   ]
  },
  {
   "attachments": {},
   "cell_type": "markdown",
   "metadata": {},
   "source": [
    "Derive the PSK and validate the solution"
   ]
  },
  {
   "cell_type": "code",
   "execution_count": 9,
   "metadata": {},
   "outputs": [
    {
     "name": "stdout",
     "output_type": "stream",
     "text": [
      "Solution: a22c4740d1843aca77252e5a6923af13773be449bb443edca5c6296ca151b603\n",
      "\u001b[92mCorrect Solution.\n",
      "\u001b[0m\n"
     ]
    }
   ],
   "source": [
    "PMK = derive_psk(SSID, PASSWORD)\n",
    "validate_solution(PMK.hex(), 'a22c', 'b603')"
   ]
  },
  {
   "attachments": {},
   "cell_type": "markdown",
   "metadata": {},
   "source": [
    "# Question 2"
   ]
  },
  {
   "attachments": {},
   "cell_type": "markdown",
   "metadata": {},
   "source": [
    "Parse file and get the 4-handshake packets using the tshark class implementented"
   ]
  },
  {
   "cell_type": "code",
   "execution_count": 10,
   "metadata": {},
   "outputs": [],
   "source": [
    "# init Tshark utility\n",
    "tshark = Tshark('../captures/tradio.pcapng')"
   ]
  },
  {
   "attachments": {},
   "cell_type": "markdown",
   "metadata": {},
   "source": [
    "Get 4-handshake sample from the capture and get the nonce from the first two packages"
   ]
  },
  {
   "cell_type": "code",
   "execution_count": 11,
   "metadata": {},
   "outputs": [],
   "source": [
    "# find a handshake sample\n",
    "handshake_sample =  tshark.find_4_handshake_sample()\n",
    "\n",
    "# extract the first two packages  \n",
    "packet_1 = handshake_sample[0]\n",
    "packet_2 = handshake_sample[1]"
   ]
  },
  {
   "attachments": {},
   "cell_type": "markdown",
   "metadata": {},
   "source": [
    "Extract the nonce of the first handshake packages and validate the solution"
   ]
  },
  {
   "cell_type": "code",
   "execution_count": 12,
   "metadata": {},
   "outputs": [
    {
     "name": "stdout",
     "output_type": "stream",
     "text": [
      "Solution: b6ea13c99b3a6aeeb973b622d5671d3f4a143effe67660c0bc01b774604d7d3b\n",
      "\u001b[92mCorrect Solution.\n",
      "\u001b[0m\n",
      "Solution: e6d818b941847156d83eab024dc81f8ce372ab4a625bf0f80c383c536578b61c\n",
      "\u001b[92mCorrect Solution.\n",
      "\u001b[0m\n"
     ]
    }
   ],
   "source": [
    "validate_solution(packet_1.nonce.hex(), 'b6ea', 'd7d3b')\n",
    "validate_solution(packet_2.nonce.hex(), 'e6d8', 'b61c')"
   ]
  },
  {
   "attachments": {},
   "cell_type": "markdown",
   "metadata": {},
   "source": [
    "# Question 3"
   ]
  },
  {
   "attachments": {},
   "cell_type": "markdown",
   "metadata": {},
   "source": [
    "Definition of aux function to derive the PTK "
   ]
  },
  {
   "cell_type": "code",
   "execution_count": 13,
   "metadata": {},
   "outputs": [],
   "source": [
    "def HMAC(key, algo, input):\n",
    "    h = hmac.HMAC(key, algo)\n",
    "    h.update(input)\n",
    "    return h.finalize()"
   ]
  },
  {
   "cell_type": "code",
   "execution_count": 14,
   "metadata": {},
   "outputs": [],
   "source": [
    "def SHA1_HMAC(key, input, length):\n",
    "    r = bytes()\n",
    "    for i in range(1 + length // 20):\n",
    "        r+= HMAC(key, hashes.SHA1(), input + chr(i).encode())\n",
    "    return r[:length]"
   ]
  },
  {
   "attachments": {},
   "cell_type": "markdown",
   "metadata": {},
   "source": [
    "Generate data blocks used to derive the PTK"
   ]
  },
  {
   "cell_type": "code",
   "execution_count": 15,
   "metadata": {},
   "outputs": [],
   "source": [
    "# extract the required fields to generate the block\n",
    "a_mac = packet_1.a_mac\n",
    "s_mac = packet_1.s_mac\n",
    "a_nonce = packet_1.nonce\n",
    "s_nonce = packet_2.nonce\n",
    "\n",
    "# ordered the fields (less first)\n",
    "mac_1, mac_2 = min(a_mac, s_mac) , max(a_mac, s_mac)\n",
    "nonce_1, nonce_2 = min(a_nonce, s_nonce), max(a_nonce, s_nonce)\n",
    "\n",
    "# generate data blocks\n",
    "data = 'Pairwise key expansion'.encode() + chr(0x00).encode() + mac_1 + mac_2 + nonce_1 + nonce_2"
   ]
  },
  {
   "attachments": {},
   "cell_type": "markdown",
   "metadata": {},
   "source": [
    "Derive the PTK key"
   ]
  },
  {
   "cell_type": "code",
   "execution_count": 16,
   "metadata": {},
   "outputs": [],
   "source": [
    "PTK = SHA1_HMAC(PMK, data, 48)"
   ]
  },
  {
   "attachments": {},
   "cell_type": "markdown",
   "metadata": {},
   "source": [
    "Solution Validation"
   ]
  },
  {
   "cell_type": "code",
   "execution_count": 17,
   "metadata": {},
   "outputs": [
    {
     "name": "stdout",
     "output_type": "stream",
     "text": [
      "Solution: 0ffc1910a2ff9e32a260c3e10427ff980749105d9cfdf27cf232798126a306ef5d75e703a06de9d51b492dfdb9138aad\n",
      "\u001b[92mCorrect Solution.\n",
      "\u001b[0m\n"
     ]
    }
   ],
   "source": [
    "validate_solution(PTK.hex(), '0ffc', '8aad')"
   ]
  },
  {
   "attachments": {},
   "cell_type": "markdown",
   "metadata": {},
   "source": [
    "# Question 4"
   ]
  },
  {
   "attachments": {},
   "cell_type": "markdown",
   "metadata": {},
   "source": [
    "Extract aux keys from PTK"
   ]
  },
  {
   "cell_type": "code",
   "execution_count": 18,
   "metadata": {},
   "outputs": [],
   "source": [
    "KCK = PTK[:16]\n",
    "KEK = PTK[16:32]\n",
    "TK = PTK[32:48]"
   ]
  },
  {
   "cell_type": "code",
   "execution_count": 19,
   "metadata": {},
   "outputs": [],
   "source": [
    "def compute_mic(KCK, mess):\n",
    "    data = mess[:81]\n",
    "    for _ in range(16):\n",
    "        data+=chr(0x00).encode()\n",
    "    data += mess[81+16:]\n",
    "    return HMAC(KCK, hashes.SHA1(), data)[:16]"
   ]
  },
  {
   "attachments": {},
   "cell_type": "markdown",
   "metadata": {},
   "source": [
    "To prove the authenticity of handshake messages 2, 3 and 4, the MIC is computed with the KCK and the 801.x authentication part and verified to be equal to the MIC of the packet."
   ]
  },
  {
   "cell_type": "code",
   "execution_count": 20,
   "metadata": {},
   "outputs": [
    {
     "name": "stdout",
     "output_type": "stream",
     "text": [
      "Expected: 27c403fe1ebc7060c97748972dc3582c\n",
      "Solution: 27c403fe1ebc7060c97748972dc3582c\n",
      "\u001b[92mCorrect Solution.\n",
      "\u001b[0m\n",
      "Expected: 35db4be1b17eab872f11066ef1f402ed\n",
      "Solution: 35db4be1b17eab872f11066ef1f402ed\n",
      "\u001b[92mCorrect Solution.\n",
      "\u001b[0m\n",
      "Expected: a29e3a96166c27cad54d30eb8644d947\n",
      "Solution: a29e3a96166c27cad54d30eb8644d947\n",
      "\u001b[92mCorrect Solution.\n",
      "\u001b[0m\n"
     ]
    }
   ],
   "source": [
    "for i in range(2, 5):\n",
    "    packet = handshake_sample[i-1]\n",
    "    mess = packet.mess\n",
    "    mic = compute_mic(KCK, mess)\n",
    "    check_equals(mess[81:81+16].hex(), mic.hex())"
   ]
  },
  {
   "attachments": {},
   "cell_type": "markdown",
   "metadata": {},
   "source": [
    "# Question 5"
   ]
  },
  {
   "attachments": {},
   "cell_type": "markdown",
   "metadata": {},
   "source": [
    "Find and parse the the unicast package 517"
   ]
  },
  {
   "cell_type": "code",
   "execution_count": 21,
   "metadata": {},
   "outputs": [],
   "source": [
    "unicast_packet = tshark.find_package_by_frame_number(517)"
   ]
  },
  {
   "attachments": {},
   "cell_type": "markdown",
   "metadata": {},
   "source": [
    "Compute the nonce"
   ]
  },
  {
   "cell_type": "code",
   "execution_count": 22,
   "metadata": {},
   "outputs": [],
   "source": [
    "qs_control = unicast_packet.qs_control\n",
    "add_1 = unicast_packet.add_1\n",
    "add_2 = unicast_packet.add_2\n",
    "add_3 = unicast_packet.add_3\n",
    "ccmp_par = unicast_packet.ccmp_par\n",
    "\n",
    "nonce_unicast = qs_control[0:1] + add_2 + ccmp_par[0:2] + ccmp_par[4:8]"
   ]
  },
  {
   "attachments": {},
   "cell_type": "markdown",
   "metadata": {},
   "source": [
    "Solution validation"
   ]
  },
  {
   "cell_type": "code",
   "execution_count": 23,
   "metadata": {},
   "outputs": [
    {
     "name": "stdout",
     "output_type": "stream",
     "text": [
      "Expected: 002269a9e50b3500000000000b\n",
      "Solution: 002269a9e50b3500000000000b\n",
      "\u001b[92mCorrect Solution.\n",
      "\u001b[0m\n"
     ]
    }
   ],
   "source": [
    "check_equals('002269a9e50b3500000000000b', nonce_unicast.hex())"
   ]
  },
  {
   "attachments": {},
   "cell_type": "markdown",
   "metadata": {},
   "source": [
    "# Question 6"
   ]
  },
  {
   "attachments": {},
   "cell_type": "markdown",
   "metadata": {},
   "source": [
    "Compute the ADD"
   ]
  },
  {
   "cell_type": "code",
   "execution_count": 24,
   "metadata": {},
   "outputs": [],
   "source": [
    "frame_control = unicast_packet.frame_control\n",
    "add_1 = unicast_packet.add_1\n",
    "add_2 = unicast_packet.add_2\n",
    "add_3 = unicast_packet.add_3\n",
    "ccmp_par = unicast_packet.ccmp_par\n",
    "qs_control = unicast_packet.qs_control\n",
    "\n",
    "add_unicast = frame_control + add_1 + add_2 + add_3 + 2 * chr(0x00).encode() + qs_control[0:2]"
   ]
  },
  {
   "attachments": {},
   "cell_type": "markdown",
   "metadata": {},
   "source": [
    "Validate if the ADD calculated it is the solution"
   ]
  },
  {
   "cell_type": "code",
   "execution_count": 25,
   "metadata": {},
   "outputs": [
    {
     "name": "stdout",
     "output_type": "stream",
     "text": [
      "Expected: 884184aa9cfd08202269a9e50b3584aa9cfd081f00000000\n",
      "Solution: 884184aa9cfd08202269a9e50b3584aa9cfd081f00000000\n",
      "\u001b[92mCorrect Solution.\n",
      "\u001b[0m\n"
     ]
    }
   ],
   "source": [
    "check_equals('884184aa9cfd08202269a9e50b3584aa9cfd081f00000000', add_unicast.hex())"
   ]
  },
  {
   "attachments": {},
   "cell_type": "markdown",
   "metadata": {},
   "source": [
    "# Question 7"
   ]
  },
  {
   "attachments": {},
   "cell_type": "markdown",
   "metadata": {},
   "source": [
    "Definition of the decrypt function"
   ]
  },
  {
   "cell_type": "code",
   "execution_count": 26,
   "metadata": {},
   "outputs": [],
   "source": [
    "def AESCCM_decrypt(key, tag_length, in_data, nonce, associated_data):\n",
    "    aesccm = AESCCM(key, tag_length)\n",
    "    return aesccm.decrypt(nonce, in_data, associated_data)"
   ]
  },
  {
   "attachments": {},
   "cell_type": "markdown",
   "metadata": {},
   "source": [
    "Descrypt the unicast packet data"
   ]
  },
  {
   "cell_type": "code",
   "execution_count": 27,
   "metadata": {},
   "outputs": [],
   "source": [
    "data = unicast_packet.data\n",
    "plain_text = AESCCM_decrypt(TK, tag_length=8, in_data=data, nonce=nonce_unicast, associated_data=add_unicast)"
   ]
  },
  {
   "attachments": {},
   "cell_type": "markdown",
   "metadata": {},
   "source": [
    "Solution validation"
   ]
  },
  {
   "cell_type": "code",
   "execution_count": 28,
   "metadata": {},
   "outputs": [
    {
     "name": "stdout",
     "output_type": "stream",
     "text": [
      "Solution: aaaa03000000080045000054ba9240004001fcb7c0a8010dc0a801010800d14c00020001016821640000000036110f0000000000101112131415161718191a1b1c1d1e1f202122232425262728292a2b2c2d2e2f3031323334353637\n",
      "\u001b[92mCorrect Solution.\n",
      "\u001b[0m\n"
     ]
    }
   ],
   "source": [
    "validate_solution(plain_text.hex(), 'aaaa', '3637')"
   ]
  },
  {
   "attachments": {},
   "cell_type": "markdown",
   "metadata": {},
   "source": [
    "# Question 8"
   ]
  },
  {
   "attachments": {},
   "cell_type": "markdown",
   "metadata": {},
   "source": [
    "Now we going to get the GTK that is wrapped in the third handshake packet"
   ]
  },
  {
   "cell_type": "code",
   "execution_count": 29,
   "metadata": {},
   "outputs": [],
   "source": [
    "# get the handshake package that contains the GTK key\n",
    "packet_3 = handshake_sample[2]"
   ]
  },
  {
   "attachments": {},
   "cell_type": "markdown",
   "metadata": {},
   "source": [
    "Unwrap the GTK from the handshake packet data using the aes_key_unwrap function and the KEK key"
   ]
  },
  {
   "cell_type": "code",
   "execution_count": 30,
   "metadata": {},
   "outputs": [],
   "source": [
    "GTK = aes_key_unwrap(KEK, packet_3.data)"
   ]
  },
  {
   "attachments": {},
   "cell_type": "markdown",
   "metadata": {},
   "source": [
    "Solution validation"
   ]
  },
  {
   "cell_type": "code",
   "execution_count": 31,
   "metadata": {},
   "outputs": [
    {
     "name": "stdout",
     "output_type": "stream",
     "text": [
      "Solution: 30140100000fac040100000fac040100000fac020c00dd16000fac010100f3b1ceb5e1d4d5e8ade18749e4cc4ec7dd00\n",
      "\u001b[92mCorrect Solution.\n",
      "\u001b[0m\n"
     ]
    }
   ],
   "source": [
    "validate_solution(GTK.hex(), '3014', 'dd00')"
   ]
  },
  {
   "attachments": {},
   "cell_type": "markdown",
   "metadata": {},
   "source": [
    "# Question 9"
   ]
  },
  {
   "attachments": {},
   "cell_type": "markdown",
   "metadata": {},
   "source": [
    "Find and parse the the unicast package 527"
   ]
  },
  {
   "cell_type": "code",
   "execution_count": 32,
   "metadata": {},
   "outputs": [],
   "source": [
    "multicast_packet = tshark.find_package_by_frame_number(527)"
   ]
  },
  {
   "attachments": {},
   "cell_type": "markdown",
   "metadata": {},
   "source": [
    "Compute the nonce of the multicast package"
   ]
  },
  {
   "cell_type": "code",
   "execution_count": 33,
   "metadata": {},
   "outputs": [],
   "source": [
    "add_2 = multicast_packet.add_2\n",
    "ccmp_par = multicast_packet.ccmp_par\n",
    "\n",
    "nonce_multicast = chr(0x00).encode() + add_2 + ccmp_par[0:2] + ccmp_par[4:8]"
   ]
  },
  {
   "attachments": {},
   "cell_type": "markdown",
   "metadata": {},
   "source": [
    "Solution validation"
   ]
  },
  {
   "cell_type": "code",
   "execution_count": 34,
   "metadata": {},
   "outputs": [
    {
     "name": "stdout",
     "output_type": "stream",
     "text": [
      "Expected: 0084aa9cfd08200000000008f0\n",
      "Solution: 0084aa9cfd08200000000008f0\n",
      "\u001b[92mCorrect Solution.\n",
      "\u001b[0m\n"
     ]
    }
   ],
   "source": [
    "check_equals('0084aa9cfd08200000000008f0', nonce_multicast.hex())"
   ]
  },
  {
   "attachments": {},
   "cell_type": "markdown",
   "metadata": {},
   "source": [
    "# Question 10"
   ]
  },
  {
   "attachments": {},
   "cell_type": "markdown",
   "metadata": {},
   "source": [
    "Compute the ADD of the multicast package"
   ]
  },
  {
   "cell_type": "code",
   "execution_count": 35,
   "metadata": {},
   "outputs": [],
   "source": [
    "frame_control = multicast_packet.frame_control\n",
    "add_1 = multicast_packet.add_1\n",
    "add_2 = multicast_packet.add_2\n",
    "add_3 = multicast_packet.add_3\n",
    "ccmp_par = multicast_packet.ccmp_par\n",
    "qs_control = multicast_packet.qs_control\n",
    "\n",
    "# compute the ADD\n",
    "add_multicast = frame_control + add_1 + add_2 + add_3 + 2 * chr(0x00).encode()"
   ]
  },
  {
   "attachments": {},
   "cell_type": "markdown",
   "metadata": {},
   "source": [
    "Solution Validation"
   ]
  },
  {
   "cell_type": "code",
   "execution_count": 36,
   "metadata": {},
   "outputs": [
    {
     "name": "stdout",
     "output_type": "stream",
     "text": [
      "Expected: 0842ffffffffffff84aa9cfd082084aa9cfd081f0000\n",
      "Solution: 0842ffffffffffff84aa9cfd082084aa9cfd081f0000\n",
      "\u001b[92mCorrect Solution.\n",
      "\u001b[0m\n"
     ]
    }
   ],
   "source": [
    "check_equals('0842ffffffffffff84aa9cfd082084aa9cfd081f0000', add_multicast.hex())"
   ]
  },
  {
   "attachments": {},
   "cell_type": "markdown",
   "metadata": {},
   "source": [
    "# Question 11"
   ]
  },
  {
   "attachments": {},
   "cell_type": "markdown",
   "metadata": {},
   "source": [
    "Decrypt the data of the multicast package"
   ]
  },
  {
   "cell_type": "code",
   "execution_count": 37,
   "metadata": {},
   "outputs": [],
   "source": [
    "data = multicast_packet.data\n",
    "plain_text = AESCCM_decrypt(GTK[30:46], tag_length=8, in_data=data, nonce=nonce_multicast, associated_data=add_multicast)"
   ]
  },
  {
   "attachments": {},
   "cell_type": "markdown",
   "metadata": {},
   "source": [
    "# Question 12"
   ]
  },
  {
   "cell_type": "code",
   "execution_count": 38,
   "metadata": {},
   "outputs": [],
   "source": [
    "\n",
    "def find_password(ssid, password_prefix, max_iterations=10):\n",
    "    # init Tshark utility\n",
    "    tshark = Tshark('../captures/tradio2.pcapng')\n",
    "    for i in range(max_iterations):\n",
    "        # generate the password\n",
    "        password = f'{password_prefix}{i}'\n",
    "\n",
    "        # Derive the psk\n",
    "        pmk = derive_psk(ssid, password)\n",
    "        \n",
    "        # find handshake_sample\n",
    "        handshake_sample =  tshark.find_4_handshake_sample()\n",
    "\n",
    "        # extract the first two packages  \n",
    "        packet_1 = handshake_sample[0]\n",
    "        packet_2 = handshake_sample[1]\n",
    "\n",
    "        # extract the required fields to generate the block\n",
    "        a_mac = packet_1.a_mac\n",
    "        s_mac = packet_1.s_mac\n",
    "        a_nonce = packet_1.nonce\n",
    "        s_nonce = packet_2.nonce\n",
    "\n",
    "        # ordered the fields (less first)\n",
    "        mac_1, mac_2 = min(a_mac, s_mac) , max(a_mac, s_mac)\n",
    "        nonce_1, nonce_2 = min(a_nonce, s_nonce), max(a_nonce, s_nonce)\n",
    "\n",
    "        # generate data blocks\n",
    "        data = 'Pairwise key expansion'.encode() + chr(0x00).encode() + mac_1 + mac_2 + nonce_1 + nonce_2\n",
    "\n",
    "\n",
    "        # derive PTK and subkeys\n",
    "        ptk = SHA1_HMAC(pmk, data, 48)\n",
    "        kck = ptk[:16]\n",
    "        kek = ptk[16:32]\n",
    "        tk = ptk[32:48]\n",
    "\n",
    "        # compute the mic of the second package and check if are the same with the package mic field\n",
    "        packet_2_mic = packet_2.mic\n",
    "        expected_mic = compute_mic(kck, packet_2.mess)\n",
    "        if packet_2_mic == expected_mic:\n",
    "            # if the mic's are the same the password has been founded\n",
    "            return password\n",
    "    return None"
   ]
  },
  {
   "attachments": {},
   "cell_type": "markdown",
   "metadata": {},
   "source": [
    "Based on the knowledge of the password format, a dictionary attack is carried out where from the handshake packets it is possible to deduce the password. As a summary, if any of the tested passwords is valid, we will be able to correctly compute the MIC of a packet (for example, in this case, it is validated with the second handshake packet)."
   ]
  },
  {
   "cell_type": "code",
   "execution_count": 39,
   "metadata": {},
   "outputs": [
    {
     "data": {
      "text/plain": [
       "'Wifi_Test2'"
      ]
     },
     "execution_count": 39,
     "metadata": {},
     "output_type": "execute_result"
    }
   ],
   "source": [
    "ssid = SSID\n",
    "prefix = SSID\n",
    "find_password(ssid, prefix)"
   ]
  },
  {
   "attachments": {},
   "cell_type": "markdown",
   "metadata": {},
   "source": [
    "After applying this process, we find that the password is 'Wifi_Test2'"
   ]
  }
 ],
 "metadata": {
  "kernelspec": {
   "display_name": "venv",
   "language": "python",
   "name": "python3"
  },
  "language_info": {
   "codemirror_mode": {
    "name": "ipython",
    "version": 3
   },
   "file_extension": ".py",
   "mimetype": "text/x-python",
   "name": "python",
   "nbconvert_exporter": "python",
   "pygments_lexer": "ipython3",
   "version": "3.11.1"
  },
  "orig_nbformat": 4
 },
 "nbformat": 4,
 "nbformat_minor": 2
}
