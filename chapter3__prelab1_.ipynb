{
  "cells": [
    {
      "cell_type": "markdown",
      "metadata": {
        "id": "view-in-github",
        "colab_type": "text"
      },
      "source": [
        "<a href=\"https://colab.research.google.com/github/JosepBarbera/Xarxes/blob/main/chapter3__prelab1_.ipynb\" target=\"_parent\"><img src=\"https://colab.research.google.com/assets/colab-badge.svg\" alt=\"Open In Colab\"/></a>"
      ]
    },
    {
      "cell_type": "markdown",
      "metadata": {
        "id": "OIDPhiigMKQI"
      },
      "source": [
        "# Apache Spark's Structured APIs\n",
        "\n"
      ]
    },
    {
      "cell_type": "markdown",
      "metadata": {
        "id": "bgS3nhjaMQQt"
      },
      "source": [
        "## Prepare environment\n",
        "First, we are going to prepare the environment for running PySaprk in the Google Collab Machine (if you work directly in your computer, and you want to prepare it, read and follow champter 2 instructions)"
      ]
    },
    {
      "cell_type": "code",
      "execution_count": 1,
      "metadata": {
        "colab": {
          "base_uri": "https://localhost:8080/"
        },
        "id": "QTEPUoaL69gw",
        "outputId": "2425cc90-1507-4c2b-a9ba-14ed1b87ff54"
      },
      "outputs": [
        {
          "output_type": "stream",
          "name": "stdout",
          "text": [
            "Mounted at /content/drive\n"
          ]
        }
      ],
      "source": [
        "from google.colab import drive\n",
        "drive.mount('/content/drive')"
      ]
    },
    {
      "cell_type": "code",
      "execution_count": 2,
      "metadata": {
        "colab": {
          "base_uri": "https://localhost:8080/"
        },
        "id": "RsdkaEd97EHI",
        "outputId": "f75fdd21-5b2e-4f92-cdae-5511896934c8"
      },
      "outputs": [
        {
          "output_type": "stream",
          "name": "stdout",
          "text": [
            "Install JAVA 8\n",
            "Collecting wget\n",
            "  Downloading wget-3.2.zip (10 kB)\n",
            "  Preparing metadata (setup.py) ... \u001b[?25l\u001b[?25hdone\n",
            "Building wheels for collected packages: wget\n",
            "  Building wheel for wget (setup.py) ... \u001b[?25l\u001b[?25hdone\n",
            "  Created wheel for wget: filename=wget-3.2-py3-none-any.whl size=9656 sha256=b8c5f627a2e1d9d3a85f82c99644e31e08eafffc5b2a2757b8456034279bd918\n",
            "  Stored in directory: /root/.cache/pip/wheels/8b/f1/7f/5c94f0a7a505ca1c81cd1d9208ae2064675d97582078e6c769\n",
            "Successfully built wget\n",
            "Installing collected packages: wget\n",
            "Successfully installed wget-3.2\n",
            "Obtaining last version of spark\n",
            "/content/drive/MyDrive/install_pyspark.py:17: GuessedAtParserWarning: No parser was explicitly specified, so I'm using the best available HTML parser for this system (\"lxml\"). This usually isn't a problem, but if you run this code on another system, or in a different virtual environment, it may use a different parser and behave differently.\n",
            "\n",
            "The code that caused this warning is on line 17 of the file /content/drive/MyDrive/install_pyspark.py. To get rid of this warning, pass the additional argument 'features=\"lxml\"' to the BeautifulSoup constructor.\n",
            "\n",
            "  soup = BeautifulSoup(html_doc)\n",
            "Getting version spark-3.5.1\n",
            "Downloading https://downloads.apache.org/spark/spark-3.5.1/spark-3.5.1-bin-hadoop3.tgz\n",
            "Installing PySpark\n",
            "\u001b[2K     \u001b[90m━━━━━━━━━━━━━━━━━━━━━━━━━━━━━━━━━━━━━━━━\u001b[0m \u001b[32m317.0/317.0 MB\u001b[0m \u001b[31m4.5 MB/s\u001b[0m eta \u001b[36m0:00:00\u001b[0m\n",
            "\u001b[?25h  Preparing metadata (setup.py) ... \u001b[?25l\u001b[?25hdone\n",
            "  Building wheel for pyspark (setup.py) ... \u001b[?25l\u001b[?25hdone\n",
            "Setting environment variables for JAVA_HOME and SPARK_HOME\n"
          ]
        }
      ],
      "source": [
        "!python /content/drive/MyDrive/install_pyspark.py"
      ]
    },
    {
      "cell_type": "markdown",
      "metadata": {
        "id": "u3_oicKBMsEO"
      },
      "source": [
        "## Start working with Spark\n",
        "Now we now and understand how Spark appeared in our lives and more or less how it works (and you know, it's amazing 🤭), we can start to work with it.\n",
        "As you now, the SparkSession is the way programmers \"talk\" with Spark. So, we need to inicialize that."
      ]
    },
    {
      "cell_type": "code",
      "execution_count": 3,
      "metadata": {
        "id": "ekZc-YctYpwJ"
      },
      "outputs": [],
      "source": [
        "from pyspark.sql import SparkSession\n",
        "\n",
        "spark = (SparkSession\n",
        " .builder\n",
        " .appName(\"example\")\n",
        " .getOrCreate())"
      ]
    },
    {
      "cell_type": "markdown",
      "metadata": {
        "id": "tqFOiyErNuHk"
      },
      "source": [
        "## Example of working with RDDs\n",
        "But remember, since Spark 2.X we have Structured Data APIs and WE 🧡 DF"
      ]
    },
    {
      "cell_type": "code",
      "execution_count": 4,
      "metadata": {
        "colab": {
          "base_uri": "https://localhost:8080/"
        },
        "id": "es7-0PCeXvHx",
        "outputId": "d770011e-5b18-43fa-aac6-3268b47cffe7"
      },
      "outputs": [
        {
          "output_type": "execute_result",
          "data": {
            "text/plain": [
              "[('Brooke', 30.0), ('Denny', 36.0), ('Jules', 30.0), ('TD', 35.0)]"
            ]
          },
          "metadata": {},
          "execution_count": 4
        }
      ],
      "source": [
        "from pyspark import SparkContext\n",
        "# Create an RDD of tuples (name, age)\n",
        "dataRDD = spark.sparkContext.parallelize([(\"Brooke\", 20), (\"Denny\", 31), (\"Jules\", 30), (\"TD\", 35), (\"Brooke\", 25) ,(\"Denny\", 41), (\"Brooke\", 45)])\n",
        "# Use map and reduceByKey transformations with their lambda\n",
        "# expressions to aggregate and then compute average\n",
        "agesRDD = (dataRDD\n",
        ".map(lambda x: (x[0], (x[1], 1)))\n",
        ".reduceByKey(lambda x, y: (x[0] + y[0], x[1] + y[1]))\n",
        ".map(lambda x: (x[0], x[1][0]/x[1][1])))\n",
        "agesRDD.collect()"
      ]
    },
    {
      "cell_type": "markdown",
      "metadata": {
        "id": "uQHcAB5cOBxV"
      },
      "source": [
        "## Example of working with DFs\n",
        "Yep, as you can see it's easier, clearlier, more bueatiful... (it looks like pandas, isn't it?)"
      ]
    },
    {
      "cell_type": "code",
      "execution_count": 5,
      "metadata": {
        "colab": {
          "base_uri": "https://localhost:8080/"
        },
        "id": "jYZQkqf37lm4",
        "outputId": "40ae4a47-4ea7-496f-e5fb-77f1615c6ffe"
      },
      "outputs": [
        {
          "output_type": "stream",
          "name": "stdout",
          "text": [
            "+------+--------+\n",
            "|  name|avg(age)|\n",
            "+------+--------+\n",
            "|Brooke|    22.5|\n",
            "| Denny|    31.0|\n",
            "| Jules|    30.0|\n",
            "|    TD|    35.0|\n",
            "+------+--------+\n",
            "\n"
          ]
        }
      ],
      "source": [
        "from pyspark.sql.functions import avg\n",
        "\n",
        "data_df = spark.createDataFrame([(\"Brooke\", 20), (\"Denny\", 31), (\"Jules\", 30), (\"TD\", 35), (\"Brooke\", 25)], [\"name\", \"age\"])\n",
        "# Group the same names together, aggregate their ages, and compute an average\n",
        "avg_df = data_df.groupBy(\"name\").agg(avg(\"age\"))\n",
        "# Show the results of the final execution\n",
        "avg_df.show()"
      ]
    },
    {
      "cell_type": "markdown",
      "metadata": {
        "id": "vPvhaoAJO08c"
      },
      "source": [
        "## Define schemas\n",
        "There are two ways to defines them:"
      ]
    },
    {
      "cell_type": "markdown",
      "metadata": {
        "id": "a4BznmGnPAPU"
      },
      "source": [
        "### Define the schema programatically"
      ]
    },
    {
      "cell_type": "code",
      "execution_count": 6,
      "metadata": {
        "id": "MGt75kO4Y1Kf"
      },
      "outputs": [],
      "source": [
        "from pyspark.sql.types import *\n",
        "schema_programatically = StructType([StructField(\"Id\", IntegerType(), False),\n",
        "  StructField(\"First\", StringType(), False),\n",
        "  StructField(\"Last\", StringType(), False),\n",
        "  StructField(\"Url\", StringType(), False),\n",
        "  StructField(\"Published\", StringType(), False),\n",
        "  StructField(\"Hints\", IntegerType(), False),\n",
        "  StructField(\"Campaigns\", ArrayType(StringType()), False),\n",
        " ])"
      ]
    },
    {
      "cell_type": "markdown",
      "metadata": {
        "id": "93lpj2Y1PZec"
      },
      "source": [
        "### Define the schema using DDL"
      ]
    },
    {
      "cell_type": "code",
      "execution_count": 7,
      "metadata": {
        "id": "Qri60GusPUMb"
      },
      "outputs": [],
      "source": [
        "schema_ddl = \"`Id` INT, `First` STRING, `Last` STRING, `Url` STRING, `Published` STRING, `Hits` INT, `Campaigns` ARRAY<STRING>\""
      ]
    },
    {
      "cell_type": "markdown",
      "metadata": {
        "id": "rraMBoX2Qcxs"
      },
      "source": [
        "### Example creating data with both"
      ]
    },
    {
      "cell_type": "code",
      "execution_count": 8,
      "metadata": {
        "id": "z-8imTWOPg06"
      },
      "outputs": [],
      "source": [
        "#create our data\n",
        "data = [[1, \"Jules\", \"Damji\", \"https://tinyurl.1\", \"1/4/2016\", 4535, [\"twitter\", \"LinkedIn\"]],\n",
        "       [2, \"Brooke\",\"Wenig\",\"https://tinyurl.2\", \"5/5/2018\", 8908, [\"twitter\", \"LinkedIn\"]],\n",
        "       [3, \"Denny\", \"Lee\", \"https://tinyurl.3\",\"6/7/2019\",7659, [\"web\", \"twitter\", \"FB\", \"LinkedIn\"]],\n",
        "       [4, \"Tathagata\", \"Das\",\"https://tinyurl.4\", \"5/12/2018\", 10568, [\"twitter\", \"FB\"]],\n",
        "       [5, \"Matei\",\"Zaharia\", \"https://tinyurl.5\", \"5/14/2014\", 40578, [\"web\", \"twitter\", \"FB\", \"LinkedIn\"]],\n",
        "       [6, \"Reynold\", \"Xin\", \"https://tinyurl.6\", \"3/2/2015\", 25568, [\"twitter\", \"LinkedIn\"]]\n",
        "      ]"
      ]
    },
    {
      "cell_type": "code",
      "execution_count": 9,
      "metadata": {
        "colab": {
          "base_uri": "https://localhost:8080/"
        },
        "id": "mXK1ZHkIQnMc",
        "outputId": "19c9c5f6-7796-4521-b87c-3322449c0edb"
      },
      "outputs": [
        {
          "output_type": "stream",
          "name": "stdout",
          "text": [
            "+---+---------+-------+-----------------+---------+-----+--------------------+\n",
            "| Id|    First|   Last|              Url|Published|Hints|           Campaigns|\n",
            "+---+---------+-------+-----------------+---------+-----+--------------------+\n",
            "|  1|    Jules|  Damji|https://tinyurl.1| 1/4/2016| 4535| [twitter, LinkedIn]|\n",
            "|  2|   Brooke|  Wenig|https://tinyurl.2| 5/5/2018| 8908| [twitter, LinkedIn]|\n",
            "|  3|    Denny|    Lee|https://tinyurl.3| 6/7/2019| 7659|[web, twitter, FB...|\n",
            "|  4|Tathagata|    Das|https://tinyurl.4|5/12/2018|10568|       [twitter, FB]|\n",
            "|  5|    Matei|Zaharia|https://tinyurl.5|5/14/2014|40578|[web, twitter, FB...|\n",
            "|  6|  Reynold|    Xin|https://tinyurl.6| 3/2/2015|25568| [twitter, LinkedIn]|\n",
            "+---+---------+-------+-----------------+---------+-----+--------------------+\n",
            "\n"
          ]
        }
      ],
      "source": [
        "# create a DataFrame using the schema built programatically\n",
        "blogs_df = spark.createDataFrame(data, schema_programatically)\n",
        "blogs_df.show()"
      ]
    },
    {
      "cell_type": "code",
      "execution_count": 10,
      "metadata": {
        "colab": {
          "base_uri": "https://localhost:8080/"
        },
        "id": "Do7xvaglQt-7",
        "outputId": "f2070ce9-9766-4f6f-dcd8-ae46c2981e64"
      },
      "outputs": [
        {
          "output_type": "stream",
          "name": "stdout",
          "text": [
            "+---+---------+-------+-----------------+---------+-----+----------------------------+\n",
            "|Id |First    |Last   |Url              |Published|Hits |Campaigns                   |\n",
            "+---+---------+-------+-----------------+---------+-----+----------------------------+\n",
            "|1  |Jules    |Damji  |https://tinyurl.1|1/4/2016 |4535 |[twitter, LinkedIn]         |\n",
            "|2  |Brooke   |Wenig  |https://tinyurl.2|5/5/2018 |8908 |[twitter, LinkedIn]         |\n",
            "|3  |Denny    |Lee    |https://tinyurl.3|6/7/2019 |7659 |[web, twitter, FB, LinkedIn]|\n",
            "|4  |Tathagata|Das    |https://tinyurl.4|5/12/2018|10568|[twitter, FB]               |\n",
            "|5  |Matei    |Zaharia|https://tinyurl.5|5/14/2014|40578|[web, twitter, FB, LinkedIn]|\n",
            "|6  |Reynold  |Xin    |https://tinyurl.6|3/2/2015 |25568|[twitter, LinkedIn]         |\n",
            "+---+---------+-------+-----------------+---------+-----+----------------------------+\n",
            "\n"
          ]
        }
      ],
      "source": [
        "# create a DataFrame using the schema built using DDL\n",
        "blogs_df = spark.createDataFrame(data, schema_ddl)\n",
        "blogs_df.show(truncate=False)"
      ]
    },
    {
      "cell_type": "markdown",
      "metadata": {
        "id": "s4eEQanYRtT1"
      },
      "source": [
        "## Exercice 1\n",
        "As you can see, the previous schema are not exactly the same. In the programatically way, we can specify not nulleable values. Any idea about how to do the same with DDL?"
      ]
    },
    {
      "cell_type": "code",
      "execution_count": 11,
      "metadata": {
        "id": "wvMQqV0gQ4WL"
      },
      "outputs": [],
      "source": [
        "schema_ddl_nulleable = \"`Id` INT NOT NULL, `First` STRING NOT NULL, `Last` STRING NOT NULL, `Url` STRING NOT NULL, `Published` STRING NOT NULL, `Hits` INT NOT NULL, `Campaigns` ARRAY<String>\""
      ]
    },
    {
      "cell_type": "code",
      "source": [
        "# Create a DataFrame using the schema built with DDL\n",
        "blogs_df = spark.createDataFrame(data, schema_ddl_nulleable)\n",
        "blogs_df.show()"
      ],
      "metadata": {
        "colab": {
          "base_uri": "https://localhost:8080/"
        },
        "id": "4_mBhLQ8krip",
        "outputId": "924f1f47-e45f-4ab5-ee6a-677e18812364"
      },
      "execution_count": 12,
      "outputs": [
        {
          "output_type": "stream",
          "name": "stdout",
          "text": [
            "+---+---------+-------+-----------------+---------+-----+--------------------+\n",
            "| Id|    First|   Last|              Url|Published| Hits|           Campaigns|\n",
            "+---+---------+-------+-----------------+---------+-----+--------------------+\n",
            "|  1|    Jules|  Damji|https://tinyurl.1| 1/4/2016| 4535| [twitter, LinkedIn]|\n",
            "|  2|   Brooke|  Wenig|https://tinyurl.2| 5/5/2018| 8908| [twitter, LinkedIn]|\n",
            "|  3|    Denny|    Lee|https://tinyurl.3| 6/7/2019| 7659|[web, twitter, FB...|\n",
            "|  4|Tathagata|    Das|https://tinyurl.4|5/12/2018|10568|       [twitter, FB]|\n",
            "|  5|    Matei|Zaharia|https://tinyurl.5|5/14/2014|40578|[web, twitter, FB...|\n",
            "|  6|  Reynold|    Xin|https://tinyurl.6| 3/2/2015|25568| [twitter, LinkedIn]|\n",
            "+---+---------+-------+-----------------+---------+-----+--------------------+\n",
            "\n"
          ]
        }
      ]
    },
    {
      "cell_type": "markdown",
      "metadata": {
        "id": "kaXI16gfV9UV"
      },
      "source": [
        "### Get Schema from DF"
      ]
    },
    {
      "cell_type": "code",
      "execution_count": null,
      "metadata": {
        "colab": {
          "base_uri": "https://localhost:8080/"
        },
        "id": "W--2O1Q5SKZZ",
        "outputId": "0217b0db-cdeb-4f59-d847-4d641aad5460"
      },
      "outputs": [
        {
          "output_type": "execute_result",
          "data": {
            "text/plain": [
              "StructType([StructField('Id', IntegerType(), True), StructField('First', StringType(), True), StructField('Last', StringType(), True), StructField('Url', StringType(), True), StructField('Published', StringType(), True), StructField('Hits', IntegerType(), True), StructField('Campaigns', ArrayType(StringType(), True), True)])"
            ]
          },
          "metadata": {},
          "execution_count": 185
        }
      ],
      "source": [
        "blogs_df.schema"
      ]
    },
    {
      "cell_type": "markdown",
      "metadata": {
        "id": "z095l-qbWL2F"
      },
      "source": [
        "### Read data from json\n",
        "Download data from https://github.com/databricks/LearningSparkV2/blob/master/chapter3/scala/data/blogs.json"
      ]
    },
    {
      "cell_type": "code",
      "execution_count": 13,
      "metadata": {
        "colab": {
          "base_uri": "https://localhost:8080/",
          "height": 36
        },
        "id": "aw7yuLR2WEwj",
        "outputId": "5e93885d-5207-4aa5-f2a0-9130173ed73a"
      },
      "outputs": [
        {
          "output_type": "execute_result",
          "data": {
            "text/plain": [
              "'blogs.json'"
            ],
            "application/vnd.google.colaboratory.intrinsic+json": {
              "type": "string"
            }
          },
          "metadata": {},
          "execution_count": 13
        }
      ],
      "source": [
        "import wget\n",
        "json_url = \"https://raw.githubusercontent.com/databricks/LearningSparkV2/master/chapter3/scala/data/blogs.json\"\n",
        "wget.download(json_url)"
      ]
    },
    {
      "cell_type": "code",
      "execution_count": 14,
      "metadata": {
        "id": "fuoB82W1Wiir"
      },
      "outputs": [],
      "source": [
        "blogs_df = spark.read.json('blogs.json')"
      ]
    },
    {
      "cell_type": "code",
      "execution_count": 15,
      "metadata": {
        "id": "s11KbcoFWwKs"
      },
      "outputs": [],
      "source": [
        "blogs_df = spark.read.schema(schema_ddl).json('blogs.json')"
      ]
    },
    {
      "cell_type": "markdown",
      "metadata": {
        "id": "RJejny9IcU19"
      },
      "source": [
        "*Return to slides*"
      ]
    },
    {
      "cell_type": "markdown",
      "metadata": {
        "id": "A05ZxsG1caP2"
      },
      "source": [
        "## Columns and Expressions"
      ]
    },
    {
      "cell_type": "markdown",
      "metadata": {
        "id": "8ij1IHStchql"
      },
      "source": [
        "### List all columns of DF"
      ]
    },
    {
      "cell_type": "code",
      "execution_count": 16,
      "metadata": {
        "colab": {
          "base_uri": "https://localhost:8080/"
        },
        "id": "TUEAaIuFcYU6",
        "outputId": "92ab3757-8ab1-4ba4-aab2-d51336b92400"
      },
      "outputs": [
        {
          "output_type": "execute_result",
          "data": {
            "text/plain": [
              "['Id', 'First', 'Last', 'Url', 'Published', 'Hits', 'Campaigns']"
            ]
          },
          "metadata": {},
          "execution_count": 16
        }
      ],
      "source": [
        "blogs_df.columns"
      ]
    },
    {
      "cell_type": "markdown",
      "metadata": {
        "id": "gQPlsmT8cq1m"
      },
      "source": [
        "### Access to particular columns with col function"
      ]
    },
    {
      "cell_type": "code",
      "execution_count": 17,
      "metadata": {
        "colab": {
          "base_uri": "https://localhost:8080/"
        },
        "id": "1AlQt8vlcn_M",
        "outputId": "9de49c7b-90f7-4b54-d5a5-afa5625437c8"
      },
      "outputs": [
        {
          "output_type": "execute_result",
          "data": {
            "text/plain": [
              "Column<'Id'>"
            ]
          },
          "metadata": {},
          "execution_count": 17
        }
      ],
      "source": [
        "blogs_df[\"Id\"]"
      ]
    },
    {
      "cell_type": "markdown",
      "metadata": {
        "id": "Mni6yWQDdkt1"
      },
      "source": [
        "### Different ways of computing values"
      ]
    },
    {
      "cell_type": "code",
      "execution_count": 18,
      "metadata": {
        "colab": {
          "base_uri": "https://localhost:8080/"
        },
        "id": "CnhzQKxed0XF",
        "outputId": "a21c2e19-0d46-4573-a90d-13665fb0ed10"
      },
      "outputs": [
        {
          "output_type": "stream",
          "name": "stdout",
          "text": [
            "+----------+\n",
            "|(Hits * 2)|\n",
            "+----------+\n",
            "|      9070|\n",
            "|     17816|\n",
            "|     15318|\n",
            "|     21136|\n",
            "|     81156|\n",
            "|     51136|\n",
            "+----------+\n",
            "\n"
          ]
        }
      ],
      "source": [
        "from pyspark.sql.functions import expr\n",
        "blogs_df.select(expr(\"Hits * 2\")).show()"
      ]
    },
    {
      "cell_type": "code",
      "execution_count": 19,
      "metadata": {
        "colab": {
          "base_uri": "https://localhost:8080/"
        },
        "id": "JdNWf99_cz1s",
        "outputId": "9418286c-63e4-4a20-90f5-73d3ceea6d51"
      },
      "outputs": [
        {
          "output_type": "stream",
          "name": "stdout",
          "text": [
            "+----------+\n",
            "|(Hits * 2)|\n",
            "+----------+\n",
            "|      9070|\n",
            "|     17816|\n",
            "|     15318|\n",
            "|     21136|\n",
            "|     81156|\n",
            "|     51136|\n",
            "+----------+\n",
            "\n"
          ]
        }
      ],
      "source": [
        "blogs_df.selectExpr(\"Hits * 2\").show()"
      ]
    },
    {
      "cell_type": "code",
      "execution_count": 20,
      "metadata": {
        "colab": {
          "base_uri": "https://localhost:8080/"
        },
        "id": "nmiYRZNudtTB",
        "outputId": "4bd63b9d-d48e-402e-a24a-78945da84f64"
      },
      "outputs": [
        {
          "output_type": "stream",
          "name": "stdout",
          "text": [
            "+----------+\n",
            "|(Hits * 2)|\n",
            "+----------+\n",
            "|      9070|\n",
            "|     17816|\n",
            "|     15318|\n",
            "|     21136|\n",
            "|     81156|\n",
            "|     51136|\n",
            "+----------+\n",
            "\n"
          ]
        }
      ],
      "source": [
        "from pyspark.sql.functions import col\n",
        "blogs_df.select(col(\"Hits\") * 2).show()"
      ]
    },
    {
      "cell_type": "markdown",
      "metadata": {
        "id": "AfIqnLEOgmj1"
      },
      "source": [
        "### Create new columns"
      ]
    },
    {
      "cell_type": "code",
      "execution_count": 21,
      "metadata": {
        "colab": {
          "base_uri": "https://localhost:8080/"
        },
        "id": "a8gBzvQReLGD",
        "outputId": "ea74dae0-e8cc-4cf9-b749-b73d6687f4fc"
      },
      "outputs": [
        {
          "output_type": "stream",
          "name": "stdout",
          "text": [
            "+---+---------+-------+-----------------+---------+-----+--------------------+-----------+\n",
            "| Id|    First|   Last|              Url|Published| Hits|           Campaigns|Big Hitters|\n",
            "+---+---------+-------+-----------------+---------+-----+--------------------+-----------+\n",
            "|  1|    Jules|  Damji|https://tinyurl.1| 1/4/2016| 4535| [twitter, LinkedIn]|      false|\n",
            "|  2|   Brooke|  Wenig|https://tinyurl.2| 5/5/2018| 8908| [twitter, LinkedIn]|      false|\n",
            "|  3|    Denny|    Lee|https://tinyurl.3| 6/7/2019| 7659|[web, twitter, FB...|      false|\n",
            "|  4|Tathagata|    Das|https://tinyurl.4|5/12/2018|10568|       [twitter, FB]|       true|\n",
            "|  5|    Matei|Zaharia|https://tinyurl.5|5/14/2014|40578|[web, twitter, FB...|       true|\n",
            "|  6|  Reynold|    Xin|https://tinyurl.6| 3/2/2015|25568| [twitter, LinkedIn]|       true|\n",
            "+---+---------+-------+-----------------+---------+-----+--------------------+-----------+\n",
            "\n"
          ]
        }
      ],
      "source": [
        "blogs_df.withColumn(\"Big Hitters\", col(\"Hits\")>10000).show()"
      ]
    },
    {
      "cell_type": "code",
      "execution_count": 53,
      "metadata": {
        "id": "bjXMt1mNgDQ9"
      },
      "outputs": [],
      "source": [
        "# big_hitters_df = blogs_df.withColumn(\"Big Hitters\", col(\"Hits\")>10000)"
      ]
    },
    {
      "cell_type": "markdown",
      "metadata": {
        "id": "rtBUy_yfqOTd"
      },
      "source": [
        "For our mental health: import pyspark.sql.functions as F"
      ]
    },
    {
      "cell_type": "code",
      "execution_count": 22,
      "metadata": {
        "colab": {
          "base_uri": "https://localhost:8080/"
        },
        "id": "l-zF08ftgYt5",
        "outputId": "2b7331ed-0932-4e11-a0f3-19cd125d9a45"
      },
      "outputs": [
        {
          "output_type": "stream",
          "name": "stdout",
          "text": [
            "+---+---------+-------+-----------------+---------+-----+--------------------+-------------+\n",
            "| Id|    First|   Last|              Url|Published| Hits|           Campaigns| CompleteName|\n",
            "+---+---------+-------+-----------------+---------+-----+--------------------+-------------+\n",
            "|  1|    Jules|  Damji|https://tinyurl.1| 1/4/2016| 4535| [twitter, LinkedIn]|  Jules Damji|\n",
            "|  2|   Brooke|  Wenig|https://tinyurl.2| 5/5/2018| 8908| [twitter, LinkedIn]| Brooke Wenig|\n",
            "|  3|    Denny|    Lee|https://tinyurl.3| 6/7/2019| 7659|[web, twitter, FB...|    Denny Lee|\n",
            "|  4|Tathagata|    Das|https://tinyurl.4|5/12/2018|10568|       [twitter, FB]|Tathagata Das|\n",
            "|  5|    Matei|Zaharia|https://tinyurl.5|5/14/2014|40578|[web, twitter, FB...|Matei Zaharia|\n",
            "|  6|  Reynold|    Xin|https://tinyurl.6| 3/2/2015|25568| [twitter, LinkedIn]|  Reynold Xin|\n",
            "+---+---------+-------+-----------------+---------+-----+--------------------+-------------+\n",
            "\n"
          ]
        }
      ],
      "source": [
        "import pyspark.sql.functions as F\n",
        "blogs_df \\\n",
        "  .withColumn(\"CompleteName\", F.concat(F.col(\"First\"), F.lit(\" \"), F.col(\"Last\"))).show()"
      ]
    },
    {
      "cell_type": "markdown",
      "metadata": {
        "id": "fHXYEPB7rFzF"
      },
      "source": [
        "### Select (project) some columns"
      ]
    },
    {
      "cell_type": "code",
      "execution_count": 23,
      "metadata": {
        "colab": {
          "base_uri": "https://localhost:8080/"
        },
        "id": "eFxSQNSkrD7V",
        "outputId": "981dda7a-b101-4fe1-d309-9b93dbc42536"
      },
      "outputs": [
        {
          "output_type": "stream",
          "name": "stdout",
          "text": [
            "+-----+\n",
            "| Hits|\n",
            "+-----+\n",
            "| 4535|\n",
            "| 8908|\n",
            "| 7659|\n",
            "|10568|\n",
            "|40578|\n",
            "|25568|\n",
            "+-----+\n",
            "\n"
          ]
        }
      ],
      "source": [
        "blogs_df.select(F.col(\"Hits\")).show()"
      ]
    },
    {
      "cell_type": "code",
      "execution_count": 52,
      "metadata": {
        "colab": {
          "base_uri": "https://localhost:8080/"
        },
        "id": "ajvmvRCJhGgi",
        "outputId": "08ceb69f-613d-4e47-f20d-d897c7dff681"
      },
      "outputs": [
        {
          "output_type": "stream",
          "name": "stdout",
          "text": [
            "+-----+\n",
            "| Hits|\n",
            "+-----+\n",
            "| 4535|\n",
            "| 8908|\n",
            "| 7659|\n",
            "|10568|\n",
            "|40578|\n",
            "|25568|\n",
            "+-----+\n",
            "\n"
          ]
        }
      ],
      "source": [
        "blogs_df.select(\"Hits\").show()"
      ]
    },
    {
      "cell_type": "code",
      "execution_count": 51,
      "metadata": {
        "colab": {
          "base_uri": "https://localhost:8080/"
        },
        "id": "gIsXZ5u2rbPc",
        "outputId": "169a92c2-5ddb-4ce6-ddf7-960ecba77001"
      },
      "outputs": [
        {
          "output_type": "stream",
          "name": "stdout",
          "text": [
            "+-----+---+\n",
            "| Hits| Id|\n",
            "+-----+---+\n",
            "| 4535|  1|\n",
            "| 8908|  2|\n",
            "| 7659|  3|\n",
            "|10568|  4|\n",
            "|40578|  5|\n",
            "|25568|  6|\n",
            "+-----+---+\n",
            "\n"
          ]
        }
      ],
      "source": [
        "blogs_df.select(F.col(\"Hits\"), F.col(\"Id\")).show()"
      ]
    },
    {
      "cell_type": "code",
      "execution_count": 24,
      "metadata": {
        "colab": {
          "base_uri": "https://localhost:8080/"
        },
        "id": "YfXIQ3TlreV8",
        "outputId": "900a1d75-f47c-4a74-c14a-e805757bc38a"
      },
      "outputs": [
        {
          "output_type": "stream",
          "name": "stdout",
          "text": [
            "+-----+---+\n",
            "| Hits| Id|\n",
            "+-----+---+\n",
            "| 4535|  1|\n",
            "| 8908|  2|\n",
            "| 7659|  3|\n",
            "|10568|  4|\n",
            "|40578|  5|\n",
            "|25568|  6|\n",
            "+-----+---+\n",
            "\n"
          ]
        }
      ],
      "source": [
        "blogs_df.select([\"Hits\", \"Id\"]).show()"
      ]
    },
    {
      "cell_type": "markdown",
      "metadata": {
        "id": "Uc6KEDMmr3I_"
      },
      "source": [
        "### Sort values"
      ]
    },
    {
      "cell_type": "code",
      "execution_count": 25,
      "metadata": {
        "colab": {
          "base_uri": "https://localhost:8080/"
        },
        "id": "8Bhbz6KdrjxT",
        "outputId": "01618c28-734c-4a16-9d62-d1d11b0661a5"
      },
      "outputs": [
        {
          "output_type": "stream",
          "name": "stdout",
          "text": [
            "+---+---------+-------+-----------------+---------+-----+--------------------+\n",
            "| Id|    First|   Last|              Url|Published| Hits|           Campaigns|\n",
            "+---+---------+-------+-----------------+---------+-----+--------------------+\n",
            "|  5|    Matei|Zaharia|https://tinyurl.5|5/14/2014|40578|[web, twitter, FB...|\n",
            "|  6|  Reynold|    Xin|https://tinyurl.6| 3/2/2015|25568| [twitter, LinkedIn]|\n",
            "|  4|Tathagata|    Das|https://tinyurl.4|5/12/2018|10568|       [twitter, FB]|\n",
            "|  2|   Brooke|  Wenig|https://tinyurl.2| 5/5/2018| 8908| [twitter, LinkedIn]|\n",
            "|  3|    Denny|    Lee|https://tinyurl.3| 6/7/2019| 7659|[web, twitter, FB...|\n",
            "|  1|    Jules|  Damji|https://tinyurl.1| 1/4/2016| 4535| [twitter, LinkedIn]|\n",
            "+---+---------+-------+-----------------+---------+-----+--------------------+\n",
            "\n"
          ]
        }
      ],
      "source": [
        "blogs_df.sort(col(\"Hits\"),ascending=False).show()"
      ]
    },
    {
      "cell_type": "markdown",
      "metadata": {
        "id": "N3Ty_R43sgRN"
      },
      "source": [
        "*Return to slides*"
      ]
    },
    {
      "cell_type": "markdown",
      "metadata": {
        "id": "XGoLAIW4tCdd"
      },
      "source": [
        "## Rows"
      ]
    },
    {
      "cell_type": "markdown",
      "metadata": {
        "id": "WQqIXwqVtYYN"
      },
      "source": [
        "We can get all the df's records as a list of :class:`Row`"
      ]
    },
    {
      "cell_type": "code",
      "execution_count": 26,
      "metadata": {
        "colab": {
          "base_uri": "https://localhost:8080/"
        },
        "id": "Lwdkpdi1sNt0",
        "outputId": "13f515dc-e8dc-4e08-a608-91846265cb81"
      },
      "outputs": [
        {
          "output_type": "execute_result",
          "data": {
            "text/plain": [
              "[Row(Id=1, First='Jules', Last='Damji', Url='https://tinyurl.1', Published='1/4/2016', Hits=4535, Campaigns=['twitter', 'LinkedIn']),\n",
              " Row(Id=2, First='Brooke', Last='Wenig', Url='https://tinyurl.2', Published='5/5/2018', Hits=8908, Campaigns=['twitter', 'LinkedIn']),\n",
              " Row(Id=3, First='Denny', Last='Lee', Url='https://tinyurl.3', Published='6/7/2019', Hits=7659, Campaigns=['web', 'twitter', 'FB', 'LinkedIn']),\n",
              " Row(Id=4, First='Tathagata', Last='Das', Url='https://tinyurl.4', Published='5/12/2018', Hits=10568, Campaigns=['twitter', 'FB']),\n",
              " Row(Id=5, First='Matei', Last='Zaharia', Url='https://tinyurl.5', Published='5/14/2014', Hits=40578, Campaigns=['web', 'twitter', 'FB', 'LinkedIn']),\n",
              " Row(Id=6, First='Reynold', Last='Xin', Url='https://tinyurl.6', Published='3/2/2015', Hits=25568, Campaigns=['twitter', 'LinkedIn'])]"
            ]
          },
          "metadata": {},
          "execution_count": 26
        }
      ],
      "source": [
        "blogs_df.collect()"
      ]
    },
    {
      "cell_type": "markdown",
      "metadata": {
        "id": "U08HHoWmtlDd"
      },
      "source": [
        "We also can create Row objects"
      ]
    },
    {
      "cell_type": "code",
      "execution_count": 27,
      "metadata": {
        "id": "jV1ep-mKtLBE"
      },
      "outputs": [],
      "source": [
        "from pyspark.sql import Row\n",
        "\n",
        "# Create a Row object\n",
        "blog_row = Row(Id=6, First=\"Reynold\", Last=\"Xin\", Url=\"https://tinyurl.6\", Hits=255568, Published=\"3/2/2015\", Campaigns=[\"twitter\"])"
      ]
    },
    {
      "cell_type": "markdown",
      "metadata": {
        "id": "EDbghyNtuDGs"
      },
      "source": [
        "We can access elements in row by position:"
      ]
    },
    {
      "cell_type": "code",
      "execution_count": 28,
      "metadata": {
        "colab": {
          "base_uri": "https://localhost:8080/"
        },
        "id": "OwSK4bmdt3oi",
        "outputId": "f86ab149-6d60-4a28-fd78-5d04e3b1ed0c"
      },
      "outputs": [
        {
          "output_type": "execute_result",
          "data": {
            "text/plain": [
              "6"
            ]
          },
          "metadata": {},
          "execution_count": 28
        }
      ],
      "source": [
        "blog_row[0]"
      ]
    },
    {
      "cell_type": "markdown",
      "metadata": {
        "id": "PKMPtyBluJvc"
      },
      "source": [
        "or by column name:"
      ]
    },
    {
      "cell_type": "code",
      "execution_count": 29,
      "metadata": {
        "colab": {
          "base_uri": "https://localhost:8080/"
        },
        "id": "umsNIb_WuHo8",
        "outputId": "0bb1320a-e63a-4e28-b534-4a8ecad001fa"
      },
      "outputs": [
        {
          "output_type": "execute_result",
          "data": {
            "text/plain": [
              "6"
            ]
          },
          "metadata": {},
          "execution_count": 29
        }
      ],
      "source": [
        "blog_row[\"Id\"]"
      ]
    },
    {
      "cell_type": "markdown",
      "metadata": {
        "id": "H3cNGluvul91"
      },
      "source": [
        "The problem here, is that Spark doen't know the columns names... to fix we could create it like:"
      ]
    },
    {
      "cell_type": "code",
      "execution_count": 30,
      "metadata": {
        "id": "GpqfHHZhuM4z"
      },
      "outputs": [],
      "source": [
        "blog_named_row = Row(Id=6, First=\"Reynold\", Last=\"Xin\", Url=\"https://tinyurl.6\", Hits=255568, Published=\"3/2/2015\", Campaigns=[\"twitter\"])"
      ]
    },
    {
      "cell_type": "code",
      "execution_count": 31,
      "metadata": {
        "colab": {
          "base_uri": "https://localhost:8080/"
        },
        "id": "V8SR5n_CvaL0",
        "outputId": "e5cbd79f-0739-46e9-a4e8-c5f369a249fe"
      },
      "outputs": [
        {
          "output_type": "execute_result",
          "data": {
            "text/plain": [
              "6"
            ]
          },
          "metadata": {},
          "execution_count": 31
        }
      ],
      "source": [
        "blog_named_row[\"Id\"]"
      ]
    },
    {
      "cell_type": "markdown",
      "metadata": {
        "id": "TAyGkrjLvlId"
      },
      "source": [
        "We can create a DF from a list of  Raws"
      ]
    },
    {
      "cell_type": "code",
      "execution_count": 32,
      "metadata": {
        "id": "7agENUwnvcK7"
      },
      "outputs": [],
      "source": [
        "df_from_named_raws = spark.createDataFrame([blog_named_row])"
      ]
    },
    {
      "cell_type": "code",
      "execution_count": 33,
      "metadata": {
        "id": "xBmXoYACvr6E"
      },
      "outputs": [],
      "source": [
        "df_from_raws = spark.createDataFrame([blog_row], ['Id', 'First', 'Last', 'Url', 'Hits', 'Published', 'Campaigns'])"
      ]
    },
    {
      "cell_type": "markdown",
      "metadata": {
        "id": "xOxO9POyxEct"
      },
      "source": [
        "## Write results"
      ]
    },
    {
      "cell_type": "code",
      "execution_count": 34,
      "metadata": {
        "id": "_LnOEGW1wgq1"
      },
      "outputs": [],
      "source": [
        "parquet_path= \"blogs_df.parquet\"\n",
        "blogs_df.write.mode(\"overwrite\").parquet(parquet_path)\n",
        "#blogs_df.write.parquet(parquet_path)"
      ]
    },
    {
      "cell_type": "code",
      "execution_count": 35,
      "metadata": {
        "id": "4uQtxV_txOaJ"
      },
      "outputs": [],
      "source": [
        "json_path= \"blogs_df.json\"\n",
        "blogs_df.write.mode(\"overwrite\").json(json_path)\n",
        "#blogs_df.write.json(json_path)"
      ]
    },
    {
      "cell_type": "markdown",
      "metadata": {
        "id": "eFLhLRybwfxF"
      },
      "source": [
        "Return to slides"
      ]
    },
    {
      "cell_type": "markdown",
      "metadata": {
        "id": "Lz_l_4_N0ACG"
      },
      "source": [
        "## Filters"
      ]
    },
    {
      "cell_type": "code",
      "execution_count": 36,
      "metadata": {
        "colab": {
          "base_uri": "https://localhost:8080/"
        },
        "id": "iFL0wqJB0AuE",
        "outputId": "686a14e8-b304-4446-e0db-061177ff9ef2"
      },
      "outputs": [
        {
          "output_type": "stream",
          "name": "stdout",
          "text": [
            "+---+---------+-------+-----------------+---------+-----+--------------------+\n",
            "| Id|    First|   Last|              Url|Published| Hits|           Campaigns|\n",
            "+---+---------+-------+-----------------+---------+-----+--------------------+\n",
            "|  4|Tathagata|    Das|https://tinyurl.4|5/12/2018|10568|       [twitter, FB]|\n",
            "|  5|    Matei|Zaharia|https://tinyurl.5|5/14/2014|40578|[web, twitter, FB...|\n",
            "|  6|  Reynold|    Xin|https://tinyurl.6| 3/2/2015|25568| [twitter, LinkedIn]|\n",
            "+---+---------+-------+-----------------+---------+-----+--------------------+\n",
            "\n"
          ]
        }
      ],
      "source": [
        "blogs_df.filter(F.col(\"Hits\") > 10000).show()"
      ]
    },
    {
      "cell_type": "code",
      "execution_count": 37,
      "metadata": {
        "colab": {
          "base_uri": "https://localhost:8080/"
        },
        "id": "RumSUJ4K0NQs",
        "outputId": "a862cdd7-ad4c-47f3-9246-1e02b235e1cb"
      },
      "outputs": [
        {
          "output_type": "stream",
          "name": "stdout",
          "text": [
            "+---+---------+-------+-----------------+---------+-----+--------------------+\n",
            "| Id|    First|   Last|              Url|Published| Hits|           Campaigns|\n",
            "+---+---------+-------+-----------------+---------+-----+--------------------+\n",
            "|  4|Tathagata|    Das|https://tinyurl.4|5/12/2018|10568|       [twitter, FB]|\n",
            "|  5|    Matei|Zaharia|https://tinyurl.5|5/14/2014|40578|[web, twitter, FB...|\n",
            "+---+---------+-------+-----------------+---------+-----+--------------------+\n",
            "\n"
          ]
        }
      ],
      "source": [
        "blogs_df.where(F.col(\"Hits\") > 10000).where(F.array_contains(F.col(\"Campaigns\"),\"FB\")).show()"
      ]
    },
    {
      "cell_type": "code",
      "execution_count": 38,
      "metadata": {
        "id": "rc8ZMEFI0R97"
      },
      "outputs": [],
      "source": [
        "wget.download('https://github.com/databricks/LearningSparkV2/raw/master/chapter3/data/sf-fire-calls.csv')\n",
        "fire_df = spark.read.csv('sf-fire-calls.csv')\n",
        "\n",
        "wget.download('https://github.com/databricks/LearningSparkV2/raw/master/chapter3/data/sf-fire-calls.csv')\n",
        "fire_df = spark.read.csv('sf-fire-calls.csv')\n"
      ]
    },
    {
      "cell_type": "code",
      "execution_count": null,
      "metadata": {
        "colab": {
          "base_uri": "https://localhost:8080/"
        },
        "id": "kCMK1Mtz4_pj",
        "outputId": "ad60db8d-9708-4051-9c8c-e3d55583a791"
      },
      "outputs": [
        {
          "output_type": "stream",
          "name": "stdout",
          "text": [
            "+----------+------+--------------+----------------+----------+----------+--------------------+--------------------+--------------------+----+-------+---------+-----------+----+----------------+--------+-------------+-------+-------------+---------+--------------+--------------------+--------------------+------------------+--------------------+--------------------+-------------+---------+\n",
            "|       _c0|   _c1|           _c2|             _c3|       _c4|       _c5|                 _c6|                 _c7|                 _c8| _c9|   _c10|     _c11|       _c12|_c13|            _c14|    _c15|         _c16|   _c17|         _c18|     _c19|          _c20|                _c21|                _c22|              _c23|                _c24|                _c25|         _c26|     _c27|\n",
            "+----------+------+--------------+----------------+----------+----------+--------------------+--------------------+--------------------+----+-------+---------+-----------+----+----------------+--------+-------------+-------+-------------+---------+--------------+--------------------+--------------------+------------------+--------------------+--------------------+-------------+---------+\n",
            "|CallNumber|UnitID|IncidentNumber|        CallType|  CallDate| WatchDate|CallFinalDisposition|       AvailableDtTm|             Address|City|Zipcode|Battalion|StationArea| Box|OriginalPriority|Priority|FinalPriority|ALSUnit|CallTypeGroup|NumAlarms|      UnitType|UnitSequenceInCal...|FirePreventionDis...|SupervisorDistrict|        Neighborhood|            Location|        RowID|    Delay|\n",
            "|  20110016|   T13|       2003235|  Structure Fire|01/11/2002|01/10/2002|               Other|01/11/2002 01:51:...|2000 Block of CAL...|  SF|  94109|      B04|         38|3362|               3|       3|            3|  false|         NULL|        1|         TRUCK|                   2|                   4|                 5|     Pacific Heights|(37.7895840679362...|020110016-T13|     2.95|\n",
            "|  20110022|   M17|       2003241|Medical Incident|01/11/2002|01/10/2002|               Other|01/11/2002 03:01:...|0 Block of SILVER...|  SF|  94124|      B10|         42|6495|               3|       3|            3|   true|         NULL|        1|         MEDIC|                   1|                  10|                10|Bayview Hunters P...|(37.7337623673897...|020110022-M17|      4.7|\n",
            "|  20110023|   M41|       2003242|Medical Incident|01/11/2002|01/10/2002|               Other|01/11/2002 02:39:...|MARKET ST/MCALLIS...|  SF|  94102|      B03|         01|1455|               3|       3|            3|   true|         NULL|        1|         MEDIC|                   2|                   3|                 6|          Tenderloin|(37.7811772186856...|020110023-M41|2.4333334|\n",
            "|  20110032|   E11|       2003250|    Vehicle Fire|01/11/2002|01/10/2002|               Other|01/11/2002 04:16:...|APPLETON AV/MISSI...|  SF|  94110|      B06|         32|5626|               3|       3|            3|  false|         NULL|        1|        ENGINE|                   1|                   6|                 9|      Bernal Heights|(37.7388432849018...|020110032-E11|      1.5|\n",
            "|  20110043|   B04|       2003259|          Alarms|01/11/2002|01/10/2002|               Other|01/11/2002 06:01:...|1400 Block of SUT...|  SF|  94109|      B04|         03|3223|               3|       3|            3|  false|         NULL|        1|         CHIEF|                   2|                   4|                 2|    Western Addition|(37.7872890372638...|020110043-B04|3.4833333|\n",
            "|  20110072|   T08|       2003279|  Structure Fire|01/11/2002|01/11/2002|               Other|01/11/2002 08:03:...|  BEALE ST/FOLSOM ST|  SF|  94105|      B03|         35|2122|               3|       3|            3|  false|         NULL|        1|         TRUCK|                   2|                   3|                 6|Financial Distric...|(37.7886866619654...|020110072-T08|     1.75|\n",
            "|  20110125|   E33|       2003301|          Alarms|01/11/2002|01/11/2002|               Other|01/11/2002 09:46:...|0 Block of FARALL...|  SF|  94112|      B09|         33|8324|               3|       3|            3|  false|         NULL|        1|        ENGINE|                   2|                   9|                11|Oceanview/Merced/...|(37.7140353531157...|020110125-E33|2.7166667|\n",
            "|  20110130|   E36|       2003304|          Alarms|01/11/2002|01/11/2002|               Other|01/11/2002 09:58:...|600 Block of POLK ST|  SF|  94102|      B02|         03|3114|               3|       3|            3|  false|         NULL|        1|        ENGINE|                   1|                   2|                 6|          Tenderloin|(37.7826266328595...|020110130-E36|1.7833333|\n",
            "|  20110197|   E05|       2003343|Medical Incident|01/11/2002|01/11/2002|               Other|01/11/2002 12:06:...|1500 Block of WEB...|  SF|  94115|      B04|         05|3513|               3|       3|            3|  false|         NULL|        1|        ENGINE|                   1|                   4|                 5|           Japantown|(37.784958590666,...|020110197-E05|1.5166667|\n",
            "|  20110215|   E06|       2003348|Medical Incident|01/11/2002|01/11/2002|               Other|01/11/2002 01:08:...|DIAMOND ST/MARKET ST|  SF|  94114|      B05|         06|5415|               3|       3|            3|  false|         NULL|        1|        ENGINE|                   1|                   5|                 8| Castro/Upper Market|(37.7618954753708...|020110215-E06|2.7666667|\n",
            "|  20110274|   M07|       2003381|Medical Incident|01/11/2002|01/11/2002|               Other|01/11/2002 03:31:...|2700 Block of MIS...|  SF|  94110|      B06|         11|5525|               1|       1|            2|   true|         NULL|        1|         MEDIC|                   1|                   6|                 9|             Mission|(37.7530339738059...|020110274-M07|2.1833334|\n",
            "|  20110275|   T15|       2003382|  Structure Fire|01/11/2002|01/11/2002|               Other|01/11/2002 02:59:...|BRUNSWICK ST/GUTT...|  SF|  94112|      B09|         43|6218|               3|       3|            3|  false|         NULL|        1|         TRUCK|                   1|                   9|                11|           Excelsior|(37.7105545807996...|020110275-T15|      2.5|\n",
            "|  20110304|   E03|       2003399|Medical Incident|01/11/2002|01/11/2002|               Other|01/11/2002 04:22:...|1000 Block of SUT...|  SF|  94109|      B04|         03|1557|               3|       3|            3|  false|         NULL|        1|        ENGINE|                   1|                   4|                 3|            Nob Hill|(37.7881263034393...|020110304-E03|2.4166667|\n",
            "|  20110308|   E14|       2003403|Medical Incident|01/11/2002|01/11/2002|               Other|01/11/2002 04:18:...|100 Block of 21ST...|  SF|  94121|      B07|         14|7173|               3|       3|            3|  false|         NULL|        1|        ENGINE|                   1|                   7|                 1|      Outer Richmond|(37.7850084431077...|020110308-E14|     4.95|\n",
            "|  20110313|   B10|       2003408|  Structure Fire|01/11/2002|01/11/2002|               Other|01/11/2002 04:09:...|700 Block of CAPP ST|  SF|  94110|      B06|         07|5472|               3|       3|            3|  false|         NULL|        1|         CHIEF|                   6|                   6|                 9|             Mission|(37.7547064357942...|020110313-B10|1.4166666|\n",
            "|  20110313|    D3|       2003408|  Structure Fire|01/11/2002|01/11/2002|               Other|01/11/2002 04:09:...|700 Block of CAPP ST|  SF|  94110|      B06|         07|5472|               3|       3|            3|  false|         NULL|        1|         CHIEF|                   4|                   6|                 9|             Mission|(37.7547064357942...| 020110313-D3|2.5333333|\n",
            "|  20110313|   E32|       2003408|  Structure Fire|01/11/2002|01/11/2002|               Other|01/11/2002 04:09:...|700 Block of CAPP ST|  SF|  94110|      B06|         07|5472|               3|       3|            3|   true|         NULL|        1|        ENGINE|                   8|                   6|                 9|             Mission|(37.7547064357942...|020110313-E32|1.8833333|\n",
            "|  20110315|   RC2|       2003409|Medical Incident|01/11/2002|01/11/2002|               Other|01/11/2002 04:34:...|200 Block of LAGU...|  SF|  94116|      B08|         20|8635|               3|       3|            3|   true|         NULL|        1|RESCUE CAPTAIN|                   2|                   8|                 7|  West of Twin Peaks|(37.7501117393668...|020110315-RC2|     5.35|\n",
            "|  20110330|   E14|       2003417|Medical Incident|01/11/2002|01/11/2002|               Other|01/11/2002 04:51:...|BALBOA ST/PARK PR...|  SF|  94118|      B07|         31|7145|               3|       3|            3|  false|         NULL|        1|        ENGINE|                   1|                   7|                 1|      Inner Richmond|(37.7768682293368...|020110330-E14|      2.0|\n",
            "+----------+------+--------------+----------------+----------+----------+--------------------+--------------------+--------------------+----+-------+---------+-----------+----+----------------+--------+-------------+-------+-------------+---------+--------------+--------------------+--------------------+------------------+--------------------+--------------------+-------------+---------+\n",
            "only showing top 20 rows\n",
            "\n"
          ]
        }
      ],
      "source": [
        "fire_df.show()"
      ]
    },
    {
      "cell_type": "code",
      "execution_count": 39,
      "metadata": {
        "id": "amyk979n5c8c"
      },
      "outputs": [],
      "source": [
        "from pyspark.sql.types import StructType, StructField, StringType, TimestampType\n",
        "\n",
        "schema = StructType([\n",
        "    StructField(\"IncidentNumber\", StringType(), True),\n",
        "    StructField(\"AvailableDtTm\", TimestampType(), True),\n",
        "    StructField(\"CallType\", StringType(), True)\n",
        "    # Add more fields as needed based on your CSV file\n",
        "])\n",
        "\n",
        "fire_df = spark.read.csv('sf-fire-calls.csv', header=True, schema=schema)\n",
        "\n",
        "medical_inc_df = fire_df \\\n",
        "    .select(\"IncidentNumber\", \"AvailableDtTm\", \"CallType\") \\\n",
        "    .where(F.col(\"CallType\") != \"Medical Incident\")"
      ]
    },
    {
      "cell_type": "code",
      "execution_count": 40,
      "metadata": {
        "colab": {
          "base_uri": "https://localhost:8080/"
        },
        "id": "W7LKQ35W5-O8",
        "outputId": "8344f0d0-3751-49cc-f50c-615f8b2e43f3"
      },
      "outputs": [
        {
          "output_type": "stream",
          "name": "stdout",
          "text": [
            "+--------------+-------------------+--------+\n",
            "|IncidentNumber|AvailableDtTm      |CallType|\n",
            "+--------------+-------------------+--------+\n",
            "|20110016      |2024-04-29 13:00:00|2003235 |\n",
            "|20110022      |NULL               |2003241 |\n",
            "|20110023      |NULL               |2003242 |\n",
            "|20110032      |NULL               |2003250 |\n",
            "|20110043      |NULL               |2003259 |\n",
            "+--------------+-------------------+--------+\n",
            "only showing top 5 rows\n",
            "\n"
          ]
        }
      ],
      "source": [
        "medical_inc_df.show(5, False)"
      ]
    },
    {
      "cell_type": "markdown",
      "metadata": {
        "id": "bAbR224s6PSW"
      },
      "source": [
        "### Aggregations\n",
        "Let's imagine, we want to count different kinds of calls"
      ]
    },
    {
      "cell_type": "code",
      "execution_count": 41,
      "metadata": {
        "colab": {
          "base_uri": "https://localhost:8080/"
        },
        "id": "9AuYnQtu6C-0",
        "outputId": "f4f7a9a3-697b-48b1-8186-47b864fa7271"
      },
      "outputs": [
        {
          "output_type": "stream",
          "name": "stdout",
          "text": [
            "+----------+\n",
            "|diff_types|\n",
            "+----------+\n",
            "|    168571|\n",
            "+----------+\n",
            "\n"
          ]
        }
      ],
      "source": [
        "fire_df\\\n",
        "  .select(\"CallType\")\\\n",
        "  .where(F.col(\"CallType\").isNotNull())\\\n",
        "  .agg(F.count_distinct(\"CallType\").alias(\"diff_types\"))\\\n",
        "  .show()"
      ]
    },
    {
      "cell_type": "markdown",
      "metadata": {
        "id": "c1UvXZHN6-JN"
      },
      "source": [
        "And list them"
      ]
    },
    {
      "cell_type": "code",
      "execution_count": 42,
      "metadata": {
        "colab": {
          "base_uri": "https://localhost:8080/"
        },
        "id": "qckjRHnr6oPV",
        "outputId": "727cda15-c21a-40bc-bd29-6f62ff0760b5"
      },
      "outputs": [
        {
          "output_type": "stream",
          "name": "stdout",
          "text": [
            "+--------+\n",
            "|CallType|\n",
            "+--------+\n",
            "|2006423 |\n",
            "|2006795 |\n",
            "|2013793 |\n",
            "|2014151 |\n",
            "|2015282 |\n",
            "|2016389 |\n",
            "|2021702 |\n",
            "|2022219 |\n",
            "|2022742 |\n",
            "|2023877 |\n",
            "|2023933 |\n",
            "|2029194 |\n",
            "|2030366 |\n",
            "|2032143 |\n",
            "|2033208 |\n",
            "|2033690 |\n",
            "|2036496 |\n",
            "|2042962 |\n",
            "|2044524 |\n",
            "|2047582 |\n",
            "|2048335 |\n",
            "|2050248 |\n",
            "|2051275 |\n",
            "|2055332 |\n",
            "|2057059 |\n",
            "|2067007 |\n",
            "|2067476 |\n",
            "|2069607 |\n",
            "|2069723 |\n",
            "|2070736 |\n",
            "+--------+\n",
            "only showing top 30 rows\n",
            "\n"
          ]
        }
      ],
      "source": [
        "fire_df\\\n",
        "  .select(\"CallType\")\\\n",
        "  .where(F.col(\"CallType\").isNotNull())\\\n",
        "  .distinct()\\\n",
        "  .show(30 ,truncate=False)"
      ]
    },
    {
      "cell_type": "markdown",
      "metadata": {
        "id": "MMOCGmCX7by2"
      },
      "source": [
        " ### Renaming, adding and dropping columns"
      ]
    },
    {
      "cell_type": "code",
      "execution_count": 43,
      "metadata": {
        "id": "z6p9Afde7IQU"
      },
      "outputs": [],
      "source": [
        "new_fire_df = fire_df.withColumnRenamed(\"Delay\", \"ResponseDelayedinMins\")"
      ]
    },
    {
      "cell_type": "code",
      "execution_count": 44,
      "metadata": {
        "colab": {
          "base_uri": "https://localhost:8080/"
        },
        "id": "LDNCy13KAycj",
        "outputId": "df364b6d-395e-4b0b-87a2-ebc7dbd4311c"
      },
      "outputs": [
        {
          "output_type": "stream",
          "name": "stdout",
          "text": [
            "root\n",
            " |-- IncidentNumber: string (nullable = true)\n",
            " |-- AvailableDtTm: timestamp (nullable = true)\n",
            " |-- CallType: string (nullable = true)\n",
            "\n"
          ]
        }
      ],
      "source": [
        "new_fire_df.printSchema()"
      ]
    },
    {
      "cell_type": "markdown",
      "metadata": {
        "id": "0Tj_YYyuGC0I"
      },
      "source": [
        "Now, usual data processing: change dates to timestamps:"
      ]
    },
    {
      "cell_type": "code",
      "execution_count": 45,
      "metadata": {
        "colab": {
          "base_uri": "https://localhost:8080/"
        },
        "id": "4W8RTGT0A5st",
        "outputId": "7a22e8c8-45d2-4548-b255-cc37ff634579"
      },
      "outputs": [
        {
          "output_type": "stream",
          "name": "stdout",
          "text": [
            "root\n",
            " |-- IncidentNumber: string (nullable = true)\n",
            " |-- CallType: string (nullable = true)\n",
            " |-- IncidentDate: timestamp (nullable = true)\n",
            "\n"
          ]
        }
      ],
      "source": [
        "from pyspark.sql.functions import col, to_timestamp\n",
        "\n",
        "fire_ts_df = (new_fire_df\n",
        "    .withColumn(\"IncidentDate\", to_timestamp(col(\"AvailableDtTm\"), \"MM/dd/yyyy hh:mm:ss a\"))\n",
        "    .drop(\"AvailableDtTm\"))\n",
        "fire_ts_df.printSchema()"
      ]
    },
    {
      "cell_type": "code",
      "execution_count": 46,
      "metadata": {
        "colab": {
          "base_uri": "https://localhost:8080/"
        },
        "id": "DIAI5CVXGVy9",
        "outputId": "f1ecea89-3d44-4243-98c2-6514a43e427c"
      },
      "outputs": [
        {
          "output_type": "stream",
          "name": "stdout",
          "text": [
            "+--------------+--------+-------------------+\n",
            "|IncidentNumber|CallType|       IncidentDate|\n",
            "+--------------+--------+-------------------+\n",
            "|      20110016| 2003235|2024-04-29 13:00:00|\n",
            "|      20110022| 2003241|               NULL|\n",
            "|      20110023| 2003242|               NULL|\n",
            "|      20110032| 2003250|               NULL|\n",
            "|      20110043| 2003259|               NULL|\n",
            "|      20110072| 2003279|2024-04-29 08:00:00|\n",
            "|      20110125| 2003301|               NULL|\n",
            "|      20110130| 2003304|               NULL|\n",
            "|      20110197| 2003343|               NULL|\n",
            "|      20110215| 2003348|               NULL|\n",
            "|      20110274| 2003381|               NULL|\n",
            "|      20110275| 2003382|2024-04-29 15:00:00|\n",
            "|      20110304| 2003399|               NULL|\n",
            "|      20110308| 2003403|               NULL|\n",
            "|      20110313| 2003408|               NULL|\n",
            "|      20110313| 2003408|               NULL|\n",
            "|      20110313| 2003408|               NULL|\n",
            "|      20110315| 2003409|               NULL|\n",
            "|      20110330| 2003417|               NULL|\n",
            "|      20110330| 2003417|               NULL|\n",
            "+--------------+--------+-------------------+\n",
            "only showing top 20 rows\n",
            "\n"
          ]
        }
      ],
      "source": [
        "fire_ts_df.show()"
      ]
    },
    {
      "cell_type": "markdown",
      "metadata": {
        "id": "rHyKtVCnJqbJ"
      },
      "source": [
        "### Aggregations"
      ]
    },
    {
      "cell_type": "markdown",
      "metadata": {
        "id": "1mNH8N7kJ_gm"
      },
      "source": [
        " + What are the most common types of fire calls?"
      ]
    },
    {
      "cell_type": "code",
      "execution_count": 47,
      "metadata": {
        "colab": {
          "base_uri": "https://localhost:8080/"
        },
        "id": "fkF5xskDGbrl",
        "outputId": "7bbe0a1b-f51a-493d-f8fe-3a964fe556dc"
      },
      "outputs": [
        {
          "output_type": "stream",
          "name": "stdout",
          "text": [
            "+--------+-----+\n",
            "|CallType|count|\n",
            "+--------+-----+\n",
            "|15010877|7    |\n",
            "|6077383 |5    |\n",
            "|15011972|5    |\n",
            "|1035424 |5    |\n",
            "|1022600 |5    |\n",
            "|8090574 |4    |\n",
            "|15068639|4    |\n",
            "|12081781|4    |\n",
            "|3046001 |4    |\n",
            "|15017455|4    |\n",
            "+--------+-----+\n",
            "only showing top 10 rows\n",
            "\n"
          ]
        }
      ],
      "source": [
        "(fire_ts_df\n",
        " .select(\"CallType\")\n",
        " .where(col(\"CallType\").isNotNull())\n",
        " .groupBy(\"CallType\")\n",
        " .count() # it's a kind of aggregation\n",
        " .orderBy(\"count\", ascending=False)\n",
        " .show(n=10, truncate=False))"
      ]
    },
    {
      "cell_type": "code",
      "source": [
        "fire_ts_df.printSchema()"
      ],
      "metadata": {
        "colab": {
          "base_uri": "https://localhost:8080/"
        },
        "id": "KISq3eONQuxH",
        "outputId": "b83c8a6c-4367-4773-e62e-fb7a8ae118fe"
      },
      "execution_count": 48,
      "outputs": [
        {
          "output_type": "stream",
          "name": "stdout",
          "text": [
            "root\n",
            " |-- IncidentNumber: string (nullable = true)\n",
            " |-- CallType: string (nullable = true)\n",
            " |-- IncidentDate: timestamp (nullable = true)\n",
            "\n"
          ]
        }
      ]
    },
    {
      "cell_type": "code",
      "source": [
        "fire_ts_df.show()"
      ],
      "metadata": {
        "colab": {
          "base_uri": "https://localhost:8080/"
        },
        "id": "2hsT3zmGRNuX",
        "outputId": "2599ceed-5b1c-45b9-ff75-28a6d1dc1d99"
      },
      "execution_count": 49,
      "outputs": [
        {
          "output_type": "stream",
          "name": "stdout",
          "text": [
            "+--------------+--------+-------------------+\n",
            "|IncidentNumber|CallType|       IncidentDate|\n",
            "+--------------+--------+-------------------+\n",
            "|      20110016| 2003235|2024-04-29 13:00:00|\n",
            "|      20110022| 2003241|               NULL|\n",
            "|      20110023| 2003242|               NULL|\n",
            "|      20110032| 2003250|               NULL|\n",
            "|      20110043| 2003259|               NULL|\n",
            "|      20110072| 2003279|2024-04-29 08:00:00|\n",
            "|      20110125| 2003301|               NULL|\n",
            "|      20110130| 2003304|               NULL|\n",
            "|      20110197| 2003343|               NULL|\n",
            "|      20110215| 2003348|               NULL|\n",
            "|      20110274| 2003381|               NULL|\n",
            "|      20110275| 2003382|2024-04-29 15:00:00|\n",
            "|      20110304| 2003399|               NULL|\n",
            "|      20110308| 2003403|               NULL|\n",
            "|      20110313| 2003408|               NULL|\n",
            "|      20110313| 2003408|               NULL|\n",
            "|      20110313| 2003408|               NULL|\n",
            "|      20110315| 2003409|               NULL|\n",
            "|      20110330| 2003417|               NULL|\n",
            "|      20110330| 2003417|               NULL|\n",
            "+--------------+--------+-------------------+\n",
            "only showing top 20 rows\n",
            "\n"
          ]
        }
      ]
    },
    {
      "cell_type": "code",
      "source": [
        "fire_ts_df.printSchema()"
      ],
      "metadata": {
        "colab": {
          "base_uri": "https://localhost:8080/"
        },
        "id": "Vp2AiF986pIh",
        "outputId": "d3757ea1-4062-47ad-d38a-ae9d8a0daf44"
      },
      "execution_count": 59,
      "outputs": [
        {
          "output_type": "stream",
          "name": "stdout",
          "text": [
            "root\n",
            " |-- IncidentNumber: string (nullable = true)\n",
            " |-- CallType: string (nullable = true)\n",
            " |-- IncidentDate: timestamp (nullable = true)\n",
            "\n"
          ]
        }
      ]
    },
    {
      "cell_type": "code",
      "execution_count": 153,
      "metadata": {
        "id": "g6yOG_t8J9Ve",
        "colab": {
          "base_uri": "https://localhost:8080/"
        },
        "outputId": "17847c8e-f819-43b2-9ade-cbee3dbb9b73"
      },
      "outputs": [
        {
          "output_type": "stream",
          "name": "stdout",
          "text": [
            "+--------------+------------------+-----------+----------+\n",
            "|sum(NumAlarms)|        avg(Delay)| min(Delay)|max(Delay)|\n",
            "+--------------+------------------+-----------+----------+\n",
            "|      176170.0|3.8923641541750342|0.016666668|      99.9|\n",
            "+--------------+------------------+-----------+----------+\n",
            "\n"
          ]
        }
      ],
      "source": [
        "from pyspark.sql import functions as F\n",
        "\n",
        "(fire_df\n",
        " .select(F.sum(\"NumAlarms\"),\n",
        "         F.avg(\"Delay\"),\n",
        "         F.min(\"Delay\"),\n",
        "         F.max(\"Delay\"))\n",
        " .show())"
      ]
    },
    {
      "cell_type": "markdown",
      "metadata": {
        "id": "xEDGCFxbN87f"
      },
      "source": [
        "+ What were all the different types of fire calls in 2018?\n",
        "+ What months within the year 2018 saw the highest number of fire calls?\n",
        "+ Which neighborhood in San Francisco generated the most fire calls in 2018?\n",
        "+ Which neighborhoods had the worst response times to fire calls in 2018?\n",
        "+ Which week in the year in 2018 had the most fire calls?\n",
        "+ Is there a correlation between neighborhood, zip code, and number of fire calls?\n",
        "+ How can we use Parquet files or SQL tables to store this data and read it back?\n"
      ]
    },
    {
      "cell_type": "markdown",
      "source": [
        "**Using the data from San Francisco Fire Department, answer these questions:**"
      ],
      "metadata": {
        "id": "mN0VitX0TeO9"
      }
    },
    {
      "cell_type": "markdown",
      "metadata": {
        "id": "nSUP3kN61Myv"
      },
      "source": [
        " What were all the different types of fire calls in 2018?"
      ]
    },
    {
      "cell_type": "code",
      "source": [
        "from pyspark.sql.functions import year, col\n",
        "\n",
        "fire_df = spark.read.csv('sf-fire-calls.csv', header=True)\n",
        "# fire_df.show()\n",
        "\n",
        "from pyspark.sql.functions import to_timestamp\n",
        "fire_ts_df = fire_df.withColumn(\"IncidentDate\", to_timestamp(col(\"CallDate\"), \"MM/dd/yyyy\"))\n",
        "\n",
        "fire_2018_df = fire_ts_df.filter(year(col(\"IncidentDate\")) == 2018)\n",
        "\n",
        "call_type_counts_2018 = fire_2018_df \\\n",
        "    .groupBy(\"CallType\") \\\n",
        "    .count() \\\n",
        "    .orderBy(\"count\", ascending=False)\n",
        "\n",
        "call_type_counts_2018 = call_type_counts_2018.select(\"CallType\", \"count\")\n",
        "\n",
        "call_type_counts_2018.show(truncate=False)"
      ],
      "metadata": {
        "colab": {
          "base_uri": "https://localhost:8080/"
        },
        "id": "5_hET6czTSdD",
        "outputId": "ef8172f0-0a19-4d94-ac83-545f342b9bd1"
      },
      "execution_count": 95,
      "outputs": [
        {
          "output_type": "stream",
          "name": "stdout",
          "text": [
            "+-------------------------------+-----+\n",
            "|CallType                       |count|\n",
            "+-------------------------------+-----+\n",
            "|Medical Incident               |7004 |\n",
            "|Alarms                         |1144 |\n",
            "|Structure Fire                 |906  |\n",
            "|Traffic Collision              |433  |\n",
            "|Outside Fire                   |153  |\n",
            "|Other                          |114  |\n",
            "|Citizen Assist / Service Call  |113  |\n",
            "|Gas Leak (Natural and LP Gases)|69   |\n",
            "|Water Rescue                   |43   |\n",
            "|Elevator / Escalator Rescue    |36   |\n",
            "|Electrical Hazard              |30   |\n",
            "|Vehicle Fire                   |28   |\n",
            "|Smoke Investigation (Outside)  |28   |\n",
            "|Odor (Strange / Unknown)       |10   |\n",
            "|Fuel Spill                     |10   |\n",
            "|HazMat                         |5    |\n",
            "|Train / Rail Incident          |5    |\n",
            "|Suspicious Package             |3    |\n",
            "|Assist Police                  |1    |\n",
            "|Explosion                      |1    |\n",
            "+-------------------------------+-----+\n",
            "\n"
          ]
        }
      ]
    },
    {
      "cell_type": "markdown",
      "metadata": {
        "id": "YckPuwck2GBo"
      },
      "source": [
        "What months within the year 2018 saw the highest number of fire calls?"
      ]
    },
    {
      "cell_type": "code",
      "execution_count": 96,
      "metadata": {
        "id": "jKDRDZR_2Ovd",
        "colab": {
          "base_uri": "https://localhost:8080/"
        },
        "outputId": "4444cb17-4a85-4598-ebdd-291b8f77c88d"
      },
      "outputs": [
        {
          "output_type": "stream",
          "name": "stdout",
          "text": [
            "+-----+-----+\n",
            "|Month|count|\n",
            "+-----+-----+\n",
            "|10   |1068 |\n",
            "+-----+-----+\n",
            "only showing top 1 row\n",
            "\n"
          ]
        }
      ],
      "source": [
        "from pyspark.sql.functions import year, month, col\n",
        "\n",
        "fire_2018_df = fire_ts_df.filter(year(col(\"IncidentDate\")) == 2018)\n",
        "fire_2018_df_with_month = fire_2018_df.withColumn(\"Month\", month(col(\"IncidentDate\")))\n",
        "\n",
        "monthly_fire_calls_2018 = fire_2018_df_with_month \\\n",
        "    .groupBy(\"Month\") \\\n",
        "    .count() \\\n",
        "    .orderBy(\"count\", ascending=False)\n",
        "\n",
        "monthly_fire_calls_2018.show(1 , truncate=False)"
      ]
    },
    {
      "cell_type": "markdown",
      "source": [
        "All months within the year 2018 that saw the number of fire calls"
      ],
      "metadata": {
        "id": "LHYUqwKa1Mwg"
      }
    },
    {
      "cell_type": "code",
      "source": [
        "from os import truncate\n",
        "monthly_fire_calls_2018.show(truncate=False)"
      ],
      "metadata": {
        "colab": {
          "base_uri": "https://localhost:8080/"
        },
        "id": "EaDk_LRKo_21",
        "outputId": "c3f06e3d-5aba-42e0-b744-d5ba742ba573"
      },
      "execution_count": 97,
      "outputs": [
        {
          "output_type": "stream",
          "name": "stdout",
          "text": [
            "+-----+-----+\n",
            "|Month|count|\n",
            "+-----+-----+\n",
            "|10   |1068 |\n",
            "|5    |1047 |\n",
            "|3    |1029 |\n",
            "|8    |1021 |\n",
            "|1    |1007 |\n",
            "|6    |974  |\n",
            "|7    |974  |\n",
            "|9    |951  |\n",
            "|4    |947  |\n",
            "|2    |919  |\n",
            "|11   |199  |\n",
            "+-----+-----+\n",
            "\n"
          ]
        }
      ]
    },
    {
      "cell_type": "markdown",
      "source": [
        "Which neighborhood in San Francisco generated the most fire calls in 2018?"
      ],
      "metadata": {
        "id": "Q4BsKoCDSr54"
      }
    },
    {
      "cell_type": "code",
      "source": [
        "fire_2018_df = fire_ts_df.filter(year(col(\"IncidentDate\")) == 2018)\n",
        "\n",
        "neighborhood_fire_calls_2018 = fire_2018_df \\\n",
        "    .groupBy(\"Neighborhood\") \\\n",
        "    .count() \\\n",
        "    .orderBy(\"count\", ascending=False)\n",
        "\n",
        "most_fire_calls_neighborhood = neighborhood_fire_calls_2018.first()\n",
        "\n",
        "spark.createDataFrame([most_fire_calls_neighborhood]).show()"
      ],
      "metadata": {
        "colab": {
          "base_uri": "https://localhost:8080/"
        },
        "id": "Fc_29vqHSvzx",
        "outputId": "78461408-7ec9-41e4-abda-4eb2cf8522f1"
      },
      "execution_count": 98,
      "outputs": [
        {
          "output_type": "stream",
          "name": "stdout",
          "text": [
            "+------------+-----+\n",
            "|Neighborhood|count|\n",
            "+------------+-----+\n",
            "|  Tenderloin| 1393|\n",
            "+------------+-----+\n",
            "\n"
          ]
        }
      ]
    },
    {
      "cell_type": "markdown",
      "source": [
        "The top **10** neighborhoods in San Francisco that generated the most fire calls in 2018"
      ],
      "metadata": {
        "id": "ACnSJDw00r5O"
      }
    },
    {
      "cell_type": "code",
      "source": [
        "top_10_neighborhoods = neighborhood_fire_calls_2018.limit(10).show(truncate=False)"
      ],
      "metadata": {
        "colab": {
          "base_uri": "https://localhost:8080/"
        },
        "id": "UHJXaJRDzMzK",
        "outputId": "742fa813-d55a-4b9d-c1a1-ddae48b63eb7"
      },
      "execution_count": 99,
      "outputs": [
        {
          "output_type": "stream",
          "name": "stdout",
          "text": [
            "+------------------------------+-----+\n",
            "|Neighborhood                  |count|\n",
            "+------------------------------+-----+\n",
            "|Tenderloin                    |1393 |\n",
            "|South of Market               |1053 |\n",
            "|Mission                       |913  |\n",
            "|Financial District/South Beach|772  |\n",
            "|Bayview Hunters Point         |522  |\n",
            "|Western Addition              |352  |\n",
            "|Sunset/Parkside               |346  |\n",
            "|Nob Hill                      |295  |\n",
            "|Hayes Valley                  |291  |\n",
            "|Outer Richmond                |262  |\n",
            "+------------------------------+-----+\n",
            "\n"
          ]
        }
      ]
    },
    {
      "cell_type": "markdown",
      "source": [
        "Which neighborhoods had the worst response times to fire calls in 2018?\n"
      ],
      "metadata": {
        "id": "n--ou8chSw5y"
      }
    },
    {
      "cell_type": "code",
      "source": [
        "from pyspark.sql.functions import year\n",
        "\n",
        "fire_2018_df = fire_ts_df.filter(year(col(\"IncidentDate\")) == 2018)\n",
        "neighborhood_delay_2018 = fire_2018_df \\\n",
        "    .select(\"Neighborhood\", \"Delay\")\n",
        "neighborhood_delay_2018.show(10, False)"
      ],
      "metadata": {
        "colab": {
          "base_uri": "https://localhost:8080/"
        },
        "id": "2GvWK1PkS1EM",
        "outputId": "7a4cee74-fd61-49ef-b660-38e635977572"
      },
      "execution_count": 100,
      "outputs": [
        {
          "output_type": "stream",
          "name": "stdout",
          "text": [
            "+------------------------------+---------+\n",
            "|Neighborhood                  |Delay    |\n",
            "+------------------------------+---------+\n",
            "|Presidio Heights              |2.8833334|\n",
            "|Mission Bay                   |6.3333335|\n",
            "|Chinatown                     |2.65     |\n",
            "|Financial District/South Beach|3.5333333|\n",
            "|Tenderloin                    |1.1      |\n",
            "|Bayview Hunters Point         |4.05     |\n",
            "|Inner Richmond                |2.5666666|\n",
            "|Inner Sunset                  |1.4      |\n",
            "|Sunset/Parkside               |2.6666667|\n",
            "|South of Market               |1.7666667|\n",
            "+------------------------------+---------+\n",
            "only showing top 10 rows\n",
            "\n"
          ]
        }
      ]
    },
    {
      "cell_type": "markdown",
      "source": [
        "Which week in the year in 2018 had the most fire calls?\n"
      ],
      "metadata": {
        "id": "opL8BnkuS9Xs"
      }
    },
    {
      "cell_type": "code",
      "source": [
        "from pyspark.sql.functions import year, col, weekofyear\n",
        "\n",
        "fire_2018_df = fire_ts_df.filter(year(col(\"IncidentDate\")) == 2018)\n",
        "weekly_fire_calls_2018 = fire_2018_df \\\n",
        "    .groupBy(weekofyear(\"IncidentDate\").alias(\"Week\")) \\\n",
        "    .count() \\\n",
        "    .orderBy(\"count\", ascending=False)\n",
        "\n",
        "most_fire_calls_week = weekly_fire_calls_2018.first()\n",
        "most_fire_calls_week_df = spark.createDataFrame([most_fire_calls_week])\n",
        "\n",
        "print(\"Week in 2018 with the most fire calls is :\")\n",
        "most_fire_calls_week_df.show()"
      ],
      "metadata": {
        "colab": {
          "base_uri": "https://localhost:8080/"
        },
        "id": "u7MiNcOSS-9c",
        "outputId": "7aa0ba6c-8803-4c2c-95a7-a51c003b91c5"
      },
      "execution_count": 67,
      "outputs": [
        {
          "output_type": "stream",
          "name": "stdout",
          "text": [
            "Week in 2018 with the most fire calls is :\n",
            "+----+-----+\n",
            "|Week|count|\n",
            "+----+-----+\n",
            "|  22|  259|\n",
            "+----+-----+\n",
            "\n"
          ]
        }
      ]
    },
    {
      "cell_type": "markdown",
      "source": [
        "The top **8** weeks with the most fire calls"
      ],
      "metadata": {
        "id": "srkSB2R28lw1"
      }
    },
    {
      "cell_type": "code",
      "source": [
        "most_fire_calls_week = weekly_fire_calls_2018.limit(8).show()"
      ],
      "metadata": {
        "colab": {
          "base_uri": "https://localhost:8080/"
        },
        "id": "Lv-ErPiH8FRu",
        "outputId": "97b8f059-7fb1-437c-d702-64ccf11b8dc2"
      },
      "execution_count": 101,
      "outputs": [
        {
          "output_type": "stream",
          "name": "stdout",
          "text": [
            "+----+-----+\n",
            "|Week|count|\n",
            "+----+-----+\n",
            "|  22|  259|\n",
            "|  40|  255|\n",
            "|  43|  250|\n",
            "|  25|  249|\n",
            "|   1|  246|\n",
            "|  44|  244|\n",
            "|  13|  243|\n",
            "|  32|  243|\n",
            "+----+-----+\n",
            "\n"
          ]
        }
      ]
    },
    {
      "cell_type": "markdown",
      "source": [
        "Is there a correlation between neighborhood, zip code, and number of fire calls?\n"
      ],
      "metadata": {
        "id": "sJ1oy2vcTA7m"
      }
    },
    {
      "cell_type": "markdown",
      "source": [
        "Yes, there is a correlation between neighborhood, zip code, and number of fire calls."
      ],
      "metadata": {
        "id": "iJsBk_uL7LPq"
      }
    },
    {
      "cell_type": "code",
      "source": [
        "neighborhood_zip_fire_calls = fire_df.groupBy(\"Neighborhood\", \"ZipCode\").count()\n",
        "neighborhood_zip_fire_calls.show()"
      ],
      "metadata": {
        "colab": {
          "base_uri": "https://localhost:8080/"
        },
        "id": "1V-1qbC6TDDh",
        "outputId": "688a5594-f9d2-4c87-84e4-b58cc10811c1"
      },
      "execution_count": 154,
      "outputs": [
        {
          "output_type": "stream",
          "name": "stdout",
          "text": [
            "+--------------------+-------+-----+\n",
            "|        Neighborhood|ZipCode|count|\n",
            "+--------------------+-------+-----+\n",
            "|        Inner Sunset|  94131|  392|\n",
            "| Castro/Upper Market|  94110|   61|\n",
            "|         Mission Bay|  94103|  167|\n",
            "|     Pacific Heights|  94123|  317|\n",
            "|            Nob Hill|  94109| 3983|\n",
            "|          Noe Valley|  94110|  167|\n",
            "|Financial Distric...|  94103| 1090|\n",
            "|   Lone Mountain/USF|  94118|  753|\n",
            "| Castro/Upper Market|  94103|   51|\n",
            "|    Golden Gate Park|  94121|   31|\n",
            "|                None|   NULL|  141|\n",
            "|     Treasure Island|  94130| 1100|\n",
            "|    Western Addition|  94102|  910|\n",
            "|    Presidio Heights|  94115|  291|\n",
            "|        Potrero Hill|  94124|   16|\n",
            "|           Excelsior|  94134|  405|\n",
            "|          Twin Peaks|  94131|  889|\n",
            "|        Inner Sunset|  94116|  162|\n",
            "|Bayview Hunters P...|  94124| 9150|\n",
            "|Bayview Hunters P...|  94134|  287|\n",
            "+--------------------+-------+-----+\n",
            "only showing top 20 rows\n",
            "\n"
          ]
        }
      ]
    },
    {
      "cell_type": "markdown",
      "source": [
        "Explore correlations, such as visualizations"
      ],
      "metadata": {
        "id": "ZLfe33JoTuGO"
      }
    },
    {
      "cell_type": "code",
      "source": [
        "import matplotlib.pyplot as plt\n",
        "\n",
        "# Convert the DataFrame to Pandas for visualization\n",
        "neighborhood_zip_fire_calls_pd = neighborhood_zip_fire_calls.toPandas()\n",
        "\n",
        "# Plot the number of fire calls per neighborhood\n",
        "plt.figure(figsize=(12, 6))\n",
        "plt.bar(neighborhood_zip_fire_calls_pd[\"Neighborhood\"], neighborhood_zip_fire_calls_pd[\"count\"])\n",
        "plt.xlabel(\"Neighborhood\")\n",
        "plt.ylabel(\"Number of Fire Calls\")\n",
        "plt.title(\"Number of Fire Calls per Neighborhood\")\n",
        "plt.xticks(rotation=90)\n",
        "plt.tight_layout()\n",
        "plt.show()"
      ],
      "metadata": {
        "colab": {
          "base_uri": "https://localhost:8080/",
          "height": 607
        },
        "id": "a42OjsL8Ww95",
        "outputId": "3c74227b-dbfc-4264-8f78-25240554fa6b"
      },
      "execution_count": 148,
      "outputs": [
        {
          "output_type": "display_data",
          "data": {
            "text/plain": [
              "<Figure size 1200x600 with 1 Axes>"
            ],
            "image/png": "[encoded data removed]"
          },
          "metadata": {}
        }
      ]
    },
    {
      "cell_type": "markdown",
      "source": [
        "How can we use Parquet files or SQL tables to store this data and read it back?"
      ],
      "metadata": {
        "id": "PPZAmWN8THVQ"
      }
    },
    {
      "cell_type": "code",
      "source": [
        "try:\n",
        "    fire_ts_df.write.format(\"parquet\").mode(\"overwrite\").save(\"/tmp/fireServiceParquet/\")\n",
        "    print(\"Data successfully written to Parquet files.\")\n",
        "except Exception as e:\n",
        "    print(\"Error writing data to Parquet files:\", str(e))\n"
      ],
      "metadata": {
        "colab": {
          "base_uri": "https://localhost:8080/"
        },
        "id": "ANHRdry2akXf",
        "outputId": "c3979abe-ffb2-47ce-adfb-8c763d9d9223"
      },
      "execution_count": 149,
      "outputs": [
        {
          "output_type": "stream",
          "name": "stdout",
          "text": [
            "Data successfully written to Parquet files.\n"
          ]
        }
      ]
    },
    {
      "cell_type": "code",
      "source": [
        "# Read Parquet files back into DataFrame\n",
        "parquet_df = spark.read.parquet(\"/tmp/fireServiceParquet/\")"
      ],
      "metadata": {
        "id": "bTPF4VlUTJ0-"
      },
      "execution_count": 150,
      "outputs": []
    },
    {
      "cell_type": "code",
      "source": [
        "parquet_df.show()"
      ],
      "metadata": {
        "colab": {
          "base_uri": "https://localhost:8080/"
        },
        "id": "srxRimUGa353",
        "outputId": "b2403e58-2117-4f87-b444-8d42f37a7f90"
      },
      "execution_count": 151,
      "outputs": [
        {
          "output_type": "stream",
          "name": "stdout",
          "text": [
            "+----------+------+--------------+----------------+----------+----------+--------------------+--------------------+--------------------+----+-------+---------+-----------+----+----------------+--------+-------------+-------+-------------+---------+--------------+--------------------------+----------------------+------------------+--------------------+--------------------+-------------+---------+-------------------+\n",
            "|CallNumber|UnitID|IncidentNumber|        CallType|  CallDate| WatchDate|CallFinalDisposition|       AvailableDtTm|             Address|City|Zipcode|Battalion|StationArea| Box|OriginalPriority|Priority|FinalPriority|ALSUnit|CallTypeGroup|NumAlarms|      UnitType|UnitSequenceInCallDispatch|FirePreventionDistrict|SupervisorDistrict|        Neighborhood|            Location|        RowID|    Delay|       IncidentDate|\n",
            "+----------+------+--------------+----------------+----------+----------+--------------------+--------------------+--------------------+----+-------+---------+-----------+----+----------------+--------+-------------+-------+-------------+---------+--------------+--------------------------+----------------------+------------------+--------------------+--------------------+-------------+---------+-------------------+\n",
            "|  20110016|   T13|       2003235|  Structure Fire|01/11/2002|01/10/2002|               Other|01/11/2002 01:51:...|2000 Block of CAL...|  SF|  94109|      B04|         38|3362|               3|       3|            3|  false|         NULL|        1|         TRUCK|                         2|                     4|                 5|     Pacific Heights|(37.7895840679362...|020110016-T13|     2.95|2002-01-11 00:00:00|\n",
            "|  20110022|   M17|       2003241|Medical Incident|01/11/2002|01/10/2002|               Other|01/11/2002 03:01:...|0 Block of SILVER...|  SF|  94124|      B10|         42|6495|               3|       3|            3|   true|         NULL|        1|         MEDIC|                         1|                    10|                10|Bayview Hunters P...|(37.7337623673897...|020110022-M17|      4.7|2002-01-11 00:00:00|\n",
            "|  20110023|   M41|       2003242|Medical Incident|01/11/2002|01/10/2002|               Other|01/11/2002 02:39:...|MARKET ST/MCALLIS...|  SF|  94102|      B03|         01|1455|               3|       3|            3|   true|         NULL|        1|         MEDIC|                         2|                     3|                 6|          Tenderloin|(37.7811772186856...|020110023-M41|2.4333334|2002-01-11 00:00:00|\n",
            "|  20110032|   E11|       2003250|    Vehicle Fire|01/11/2002|01/10/2002|               Other|01/11/2002 04:16:...|APPLETON AV/MISSI...|  SF|  94110|      B06|         32|5626|               3|       3|            3|  false|         NULL|        1|        ENGINE|                         1|                     6|                 9|      Bernal Heights|(37.7388432849018...|020110032-E11|      1.5|2002-01-11 00:00:00|\n",
            "|  20110043|   B04|       2003259|          Alarms|01/11/2002|01/10/2002|               Other|01/11/2002 06:01:...|1400 Block of SUT...|  SF|  94109|      B04|         03|3223|               3|       3|            3|  false|         NULL|        1|         CHIEF|                         2|                     4|                 2|    Western Addition|(37.7872890372638...|020110043-B04|3.4833333|2002-01-11 00:00:00|\n",
            "|  20110072|   T08|       2003279|  Structure Fire|01/11/2002|01/11/2002|               Other|01/11/2002 08:03:...|  BEALE ST/FOLSOM ST|  SF|  94105|      B03|         35|2122|               3|       3|            3|  false|         NULL|        1|         TRUCK|                         2|                     3|                 6|Financial Distric...|(37.7886866619654...|020110072-T08|     1.75|2002-01-11 00:00:00|\n",
            "|  20110125|   E33|       2003301|          Alarms|01/11/2002|01/11/2002|               Other|01/11/2002 09:46:...|0 Block of FARALL...|  SF|  94112|      B09|         33|8324|               3|       3|            3|  false|         NULL|        1|        ENGINE|                         2|                     9|                11|Oceanview/Merced/...|(37.7140353531157...|020110125-E33|2.7166667|2002-01-11 00:00:00|\n",
            "|  20110130|   E36|       2003304|          Alarms|01/11/2002|01/11/2002|               Other|01/11/2002 09:58:...|600 Block of POLK ST|  SF|  94102|      B02|         03|3114|               3|       3|            3|  false|         NULL|        1|        ENGINE|                         1|                     2|                 6|          Tenderloin|(37.7826266328595...|020110130-E36|1.7833333|2002-01-11 00:00:00|\n",
            "|  20110197|   E05|       2003343|Medical Incident|01/11/2002|01/11/2002|               Other|01/11/2002 12:06:...|1500 Block of WEB...|  SF|  94115|      B04|         05|3513|               3|       3|            3|  false|         NULL|        1|        ENGINE|                         1|                     4|                 5|           Japantown|(37.784958590666,...|020110197-E05|1.5166667|2002-01-11 00:00:00|\n",
            "|  20110215|   E06|       2003348|Medical Incident|01/11/2002|01/11/2002|               Other|01/11/2002 01:08:...|DIAMOND ST/MARKET ST|  SF|  94114|      B05|         06|5415|               3|       3|            3|  false|         NULL|        1|        ENGINE|                         1|                     5|                 8| Castro/Upper Market|(37.7618954753708...|020110215-E06|2.7666667|2002-01-11 00:00:00|\n",
            "|  20110274|   M07|       2003381|Medical Incident|01/11/2002|01/11/2002|               Other|01/11/2002 03:31:...|2700 Block of MIS...|  SF|  94110|      B06|         11|5525|               1|       1|            2|   true|         NULL|        1|         MEDIC|                         1|                     6|                 9|             Mission|(37.7530339738059...|020110274-M07|2.1833334|2002-01-11 00:00:00|\n",
            "|  20110275|   T15|       2003382|  Structure Fire|01/11/2002|01/11/2002|               Other|01/11/2002 02:59:...|BRUNSWICK ST/GUTT...|  SF|  94112|      B09|         43|6218|               3|       3|            3|  false|         NULL|        1|         TRUCK|                         1|                     9|                11|           Excelsior|(37.7105545807996...|020110275-T15|      2.5|2002-01-11 00:00:00|\n",
            "|  20110304|   E03|       2003399|Medical Incident|01/11/2002|01/11/2002|               Other|01/11/2002 04:22:...|1000 Block of SUT...|  SF|  94109|      B04|         03|1557|               3|       3|            3|  false|         NULL|        1|        ENGINE|                         1|                     4|                 3|            Nob Hill|(37.7881263034393...|020110304-E03|2.4166667|2002-01-11 00:00:00|\n",
            "|  20110308|   E14|       2003403|Medical Incident|01/11/2002|01/11/2002|               Other|01/11/2002 04:18:...|100 Block of 21ST...|  SF|  94121|      B07|         14|7173|               3|       3|            3|  false|         NULL|        1|        ENGINE|                         1|                     7|                 1|      Outer Richmond|(37.7850084431077...|020110308-E14|     4.95|2002-01-11 00:00:00|\n",
            "|  20110313|   B10|       2003408|  Structure Fire|01/11/2002|01/11/2002|               Other|01/11/2002 04:09:...|700 Block of CAPP ST|  SF|  94110|      B06|         07|5472|               3|       3|            3|  false|         NULL|        1|         CHIEF|                         6|                     6|                 9|             Mission|(37.7547064357942...|020110313-B10|1.4166666|2002-01-11 00:00:00|\n",
            "|  20110313|    D3|       2003408|  Structure Fire|01/11/2002|01/11/2002|               Other|01/11/2002 04:09:...|700 Block of CAPP ST|  SF|  94110|      B06|         07|5472|               3|       3|            3|  false|         NULL|        1|         CHIEF|                         4|                     6|                 9|             Mission|(37.7547064357942...| 020110313-D3|2.5333333|2002-01-11 00:00:00|\n",
            "|  20110313|   E32|       2003408|  Structure Fire|01/11/2002|01/11/2002|               Other|01/11/2002 04:09:...|700 Block of CAPP ST|  SF|  94110|      B06|         07|5472|               3|       3|            3|   true|         NULL|        1|        ENGINE|                         8|                     6|                 9|             Mission|(37.7547064357942...|020110313-E32|1.8833333|2002-01-11 00:00:00|\n",
            "|  20110315|   RC2|       2003409|Medical Incident|01/11/2002|01/11/2002|               Other|01/11/2002 04:34:...|200 Block of LAGU...|  SF|  94116|      B08|         20|8635|               3|       3|            3|   true|         NULL|        1|RESCUE CAPTAIN|                         2|                     8|                 7|  West of Twin Peaks|(37.7501117393668...|020110315-RC2|     5.35|2002-01-11 00:00:00|\n",
            "|  20110330|   E14|       2003417|Medical Incident|01/11/2002|01/11/2002|               Other|01/11/2002 04:51:...|BALBOA ST/PARK PR...|  SF|  94118|      B07|         31|7145|               3|       3|            3|  false|         NULL|        1|        ENGINE|                         1|                     7|                 1|      Inner Richmond|(37.7768682293368...|020110330-E14|      2.0|2002-01-11 00:00:00|\n",
            "|  20110330|   M12|       2003417|Medical Incident|01/11/2002|01/11/2002|               Other|01/11/2002 04:51:...|BALBOA ST/PARK PR...|  SF|  94118|      B07|         31|7145|               3|       3|            3|   true|         NULL|        1|         MEDIC|                         2|                     7|                 1|      Inner Richmond|(37.7768682293368...|020110330-M12|1.8166667|2002-01-11 00:00:00|\n",
            "+----------+------+--------------+----------------+----------+----------+--------------------+--------------------+--------------------+----+-------+---------+-----------+----+----------------+--------+-------------+-------+-------------+---------+--------------+--------------------------+----------------------+------------------+--------------------+--------------------+-------------+---------+-------------------+\n",
            "only showing top 20 rows\n",
            "\n"
          ]
        }
      ]
    },
    {
      "cell_type": "code",
      "source": [
        "import os\n",
        "\n",
        "parquet_dir = \"/tmp/fireServiceParquet/\"\n",
        "# List files in the directory\n",
        "files = os.listdir(parquet_dir)\n",
        "\n",
        "for file in files:\n",
        "    print(file)"
      ],
      "metadata": {
        "colab": {
          "base_uri": "https://localhost:8080/"
        },
        "id": "RCUItAUXbDWJ",
        "outputId": "ec7d7a11-08ec-4cd5-e94b-f21b423ee03c"
      },
      "execution_count": 152,
      "outputs": [
        {
          "output_type": "stream",
          "name": "stdout",
          "text": [
            "part-00000-bb03faf7-e352-40f2-be92-0427fffb4f63-c000.snappy.parquet\n",
            "._SUCCESS.crc\n",
            "part-00001-bb03faf7-e352-40f2-be92-0427fffb4f63-c000.snappy.parquet\n",
            "_SUCCESS\n",
            ".part-00000-bb03faf7-e352-40f2-be92-0427fffb4f63-c000.snappy.parquet.crc\n",
            ".part-00001-bb03faf7-e352-40f2-be92-0427fffb4f63-c000.snappy.parquet.crc\n"
          ]
        }
      ]
    }
  ],
  "metadata": {
    "colab": {
      "provenance": [],
      "include_colab_link": true
    },
    "kernelspec": {
      "display_name": "Python 3",
      "name": "python3"
    },
    "language_info": {
      "codemirror_mode": {
        "name": "ipython",
        "version": 3
      },
      "file_extension": ".py",
      "mimetype": "text/x-python",
      "name": "python",
      "nbconvert_exporter": "python",
      "pygments_lexer": "ipython3",
      "version": "3.11.7"
    }
  },
  "nbformat": 4,
  "nbformat_minor": 0
}